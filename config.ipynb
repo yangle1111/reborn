{
  "nbformat": 4,
  "nbformat_minor": 0,
  "metadata": {
    "colab": {
      "name": "config.ipynb",
      "version": "0.3.2",
      "provenance": [],
      "collapsed_sections": []
    },
    "kernelspec": {
      "name": "python3",
      "display_name": "Python 3"
    },
    "accelerator": "GPU"
  },
  "cells": [
    {
      "cell_type": "code",
      "metadata": {
        "id": "iGSzsAa1wRQ5",
        "colab_type": "code",
        "outputId": "d5c9b6ab-ce9f-45fa-f370-9170aeb599d5",
        "colab": {
          "base_uri": "https://localhost:8080/",
          "height": 107
        }
      },
      "source": [
        "!python3 calc.py"
      ],
      "execution_count": 0,
      "outputs": [
        {
          "output_type": "stream",
          "text": [
            "电:[34.133 32.762 30.019 28.648 27.276 20.419  6.705  1.219]\n",
            "y.l天然气:[17.726 16.945 16.164 15.383 14.602 13.821 13.04  12.259]\n",
            "孙蓓\n",
            "天然气:[17.363 16.468 15.573 14.678 13.783 12.888 11.993 11.098]\n",
            "[3763.8175, 4113.7072, 4479.2343, 4860.3988, 5257.2007, 5669.64, 6097.7167, 6541.4308]\n"
          ],
          "name": "stdout"
        }
      ]
    },
    {
      "cell_type": "code",
      "metadata": {
        "id": "IpqhoUvSwKZM",
        "colab_type": "code",
        "colab": {}
      },
      "source": [
        "os.chdir('../drive/colab')"
      ],
      "execution_count": 0,
      "outputs": []
    },
    {
      "cell_type": "code",
      "metadata": {
        "id": "600klmxXwDVg",
        "colab_type": "code",
        "outputId": "27d06514-13ee-44d0-fdb0-44c7e69fa568",
        "colab": {
          "base_uri": "https://localhost:8080/",
          "height": 35
        }
      },
      "source": [
        "!pwd"
      ],
      "execution_count": 0,
      "outputs": [
        {
          "output_type": "stream",
          "text": [
            "/drive\n"
          ],
          "name": "stdout"
        }
      ]
    },
    {
      "cell_type": "code",
      "metadata": {
        "id": "vmiEaVl1Kr_W",
        "colab_type": "code",
        "cellView": "both",
        "outputId": "12856567-a5f3-485b-e0b4-bebaa9dc8309",
        "colab": {
          "base_uri": "https://localhost:8080/",
          "height": 125
        }
      },
      "source": [
        "#@title\n",
        "!dir ../"
      ],
      "execution_count": 0,
      "outputs": [
        {
          "output_type": "stream",
          "text": [
            "bin\t etc\tmnt   srv\t\t\t tmp\n",
            "boot\t home\topt   swift\t\t\t tools\n",
            "content  lib\tproc  sys\t\t\t train-images-idx3-ubyte.gz\n",
            "datalab  lib32\troot  t10k-images-idx3-ubyte.gz  train-labels-idx1-ubyte.gz\n",
            "dev\t lib64\trun   t10k-labels-idx1-ubyte.gz  usr\n",
            "drive\t media\tsbin  tensorflow-2.0.0b1\t var\n"
          ],
          "name": "stdout"
        }
      ]
    },
    {
      "cell_type": "code",
      "metadata": {
        "id": "P916pLPlKBk9",
        "colab_type": "code",
        "outputId": "a5f4b5dc-931e-464e-f317-5aeaa0cdc869",
        "colab": {
          "base_uri": "https://localhost:8080/",
          "height": 53
        }
      },
      "source": [
        "import os\n",
        "os.chdir('../drive/book')\n",
        "!ls"
      ],
      "execution_count": 0,
      "outputs": [
        {
          "output_type": "stream",
          "text": [
            " 商君书全文翻译（文白对照）.pdf   文明的冲突与世界秩序的重建.pdf\n",
            "'宋石男 越有梦 越痛苦.pdf'\t  走出帝制——从晚清到民国历史的回望.pdf\n"
          ],
          "name": "stdout"
        }
      ]
    },
    {
      "cell_type": "code",
      "metadata": {
        "id": "VI9kMx2vjexE",
        "colab_type": "code",
        "outputId": "83710027-13ff-42ab-f255-d51f6cb2b0dd",
        "colab": {
          "base_uri": "https://localhost:8080/",
          "height": 53
        }
      },
      "source": [
        "import os\n",
        "os.chdir('../')\n",
        "!pwd\n",
        "!ls"
      ],
      "execution_count": 0,
      "outputs": [
        {
          "output_type": "stream",
          "text": [
            "/drive\n",
            " book   colab  'Colab Notebooks'\n"
          ],
          "name": "stdout"
        }
      ]
    },
    {
      "cell_type": "markdown",
      "metadata": {
        "id": "UorNVxrBupKY",
        "colab_type": "text"
      },
      "source": [
        " 27 Aug 20 16:10 java.1.gz -> /etc/alternatives/java.1.gz"
      ]
    },
    {
      "cell_type": "markdown",
      "metadata": {
        "id": "38UXBINNzEAd",
        "colab_type": "text"
      },
      "source": [
        "如果需要记得在代码里声明第三方软件或库的路径，例如我在使用Stanford Parser工具的时候，声明模型和Java的路径："
      ]
    },
    {
      "cell_type": "code",
      "metadata": {
        "id": "-ISG5rvozDdu",
        "colab_type": "code",
        "colab": {}
      },
      "source": [
        "# 添加stanford环境变量  （content是系统根目录下的一个文件夹）\n",
        "os.environ['STANFORD_PARSER'] = '/content/drive/Stanford_NLP/jars/stanford-parser.jar'\n",
        "os.environ['STANFORD_MODELS'] = '/content/drive/Stanford_NLP/jars/stanford-parser-3.9.1-models.jar'\n",
        "# 添加Java环境变量\n",
        "os.environ['JAVAHOME'] = \"/usr/lib/jvm/java-8-oracle/jre/bin/java\""
      ],
      "execution_count": 0,
      "outputs": []
    },
    {
      "cell_type": "code",
      "metadata": {
        "id": "SfCh-E6rtLHb",
        "colab_type": "code",
        "outputId": "d99cd69d-49f0-4e9c-8d93-75e6b27f7a7f",
        "colab": {
          "base_uri": "https://localhost:8080/",
          "height": 1000
        }
      },
      "source": [
        "!dir ../usr/bin/java /usr/share/java /usr/share/man/man1 -al"
      ],
      "execution_count": 0,
      "outputs": [
        {
          "output_type": "stream",
          "text": [
            "lrwxrwxrwx 1 root root   22 Aug 20 16:10 ../usr/bin/java -> /etc/alternatives/java\n",
            "\n",
            "/usr/share/java:\n",
            "total 700\n",
            "drwxr-xr-x 2 root root   4096 Aug 20 16:09 .\n",
            "drwxr-xr-x 1 root root   4096 Aug 20 16:12 ..\n",
            "-rw-r--r-- 1 root root   2989 Sep 20  2018 java_defaults.mk\n",
            "lrwxrwxrwx 1 root root     29 Sep 20  2018 opencv-320.jar -> ../OpenCV/java/opencv-320.jar\n",
            "lrwxrwxrwx 1 root root     29 Sep 20  2018 opencv.jar -> ../OpenCV/java/opencv-320.jar\n",
            "-rw-r--r-- 1 root root 698034 Mar 30  2018 protobuf-3.0.0.jar\n",
            "lrwxrwxrwx 1 root root     18 Mar 30  2018 protobuf.jar -> protobuf-3.0.0.jar\n",
            "\n",
            "/usr/share/man/man1:\n",
            "total 5656\n",
            "drwxr-xr-x 1 root root   4096 Aug 22 03:42 .\n",
            "drwxr-xr-x 1 root root   4096 Aug 20 16:05 ..\n",
            "-rw-r--r-- 1 root root    563 Nov 27  2018 2to3-2.7.1.gz\n",
            "-rw-r--r-- 1 root root   2583 Feb  5  2018 7z.1.gz\n",
            "-rw-r--r-- 1 root root   2566 Feb  5  2018 7za.1.gz\n",
            "-rw-r--r-- 1 root root   2559 Feb  5  2018 7zr.1.gz\n",
            "-rw-r--r-- 1 root root    823 Mar 24  2018 acyclic.1.gz\n",
            "-rw-r--r-- 1 root root   1034 Jul 12 14:10 add-apt-repository.1.gz\n",
            "-rw-r--r-- 1 root root   5416 Dec 24  2016 admin.1posix.gz\n",
            "-rw-r--r-- 1 root root   2668 Dec 24  2016 alias.1posix.gz\n",
            "-rw-r--r-- 1 root root   2838 Aug  4  2018 apropos.1.gz\n",
            "lrwxrwxrwx 1 root root     23 Jul 12 14:10 apt-add-repository.1.gz -> add-apt-repository.1.gz\n",
            "-rw-r--r-- 1 root root   1567 May  7 09:19 apt-extracttemplates.1.gz\n",
            "-rw-r--r-- 1 root root   6427 May  7 09:19 apt-ftparchive.1.gz\n",
            "-rw-r--r-- 1 root root   1463 May  7 09:19 apt-sortpkgs.1.gz\n",
            "-rw-r--r-- 1 root root   6651 Dec 24  2016 ar.1posix.gz\n",
            "-rw-r--r-- 1 root root   2644 Dec 24  2016 asa.1posix.gz\n",
            "-rw-r--r-- 1 root root   7714 Dec 24  2016 at.1posix.gz\n",
            "-rw-r--r-- 1 root root  28821 Dec 24  2016 awk.1posix.gz\n",
            "-rw-r--r-- 1 root root   1951 Mar  6  2018 b2.1.gz\n",
            "-rw-r--r-- 1 root root   2744 Dec 24  2016 basename.1posix.gz\n",
            "-rw-r--r-- 1 root root   3226 Dec 24  2016 batch.1posix.gz\n",
            "-rw-r--r-- 1 root root  12484 Dec 24  2016 bc.1posix.gz\n",
            "-rw-r--r-- 1 root root   1007 Mar 24  2018 bcomps.1.gz\n",
            "-rw-r--r-- 1 root root   1702 Mar  6  2018 bcp.1.gz\n",
            "-rw-r--r-- 1 root root   2797 Dec 24  2016 bg.1posix.gz\n",
            "-rw-r--r-- 1 root root   1951 Mar  6  2018 bjam.1.gz\n",
            "-rw-r--r-- 1 root root   1286 Jul 22 16:45 bootctl.1.gz\n",
            "-rw-r--r-- 1 root root   1718 Dec 24  2016 break.1posix.gz\n",
            "-rw-r--r-- 1 root root   1465 Jan 17  2018 bsd-from.1.gz\n",
            "-rw-r--r-- 1 root root   1846 Jan 17  2018 bsd-write.1.gz\n",
            "-rw-r--r-- 1 root root   4462 Jul 22 16:45 busctl.1.gz\n",
            "-rw-r--r-- 1 root root  10130 Dec 24  2016 c99.1posix.gz\n",
            "lrwxrwxrwx 1 root root      9 Jan 17  2018 cal.1.gz -> ncal.1.gz\n",
            "-rw-r--r-- 1 root root   2190 Dec 24  2016 cal.1posix.gz\n",
            "-rw-r--r-- 1 root root   4099 Jan 17  2018 calendar.1.gz\n",
            "-rw-r--r-- 1 root root   3216 Dec 24  2016 cat.1posix.gz\n",
            "-rw-r--r-- 1 root root   1652 Mar 24  2018 ccomps.1.gz\n",
            "-rw-r--r-- 1 root root   4691 Dec 24  2016 cd.1posix.gz\n",
            "-rw-r--r-- 1 root root   3161 Dec 24  2016 cflow.1posix.gz\n",
            "-rw-r--r-- 1 root root   2845 Dec 24  2016 chgrp.1posix.gz\n",
            "-rw-r--r-- 1 root root   5797 Dec 24  2016 chmod.1posix.gz\n",
            "-rw-r--r-- 1 root root   3637 Dec 24  2016 chown.1posix.gz\n",
            "lrwxrwxrwx 1 root root      8 Mar 24  2018 circo.1.gz -> dot.1.gz\n",
            "-rw-r--r-- 1 root root   6227 Dec 24  2016 cksum.1posix.gz\n",
            "lrwxrwxrwx 1 root root     14 May 16  2018 clang.1.gz -> clang-6.0.1.gz\n",
            "-rw-r--r-- 1 root root   6105 Apr  5  2018 clang-6.0.1.gz\n",
            "-rw-r--r-- 1 root root   3102 Mar 27  2018 clinfo.1.gz\n",
            "-rw-r--r-- 1 root root   1008 Mar 24  2018 cluster.1.gz\n",
            "-rw-r--r-- 1 root root   7288 Jul 13 07:20 cmake.1.gz\n",
            "-rw-r--r-- 1 root root   3178 Dec 24  2016 cmp.1posix.gz\n",
            "-rw-r--r-- 1 root root   2257 Jan 17  2018 col.1.gz\n",
            "-rw-r--r-- 1 root root   1960 Jan 17  2018 colcrt.1.gz\n",
            "-rw-r--r-- 1 root root   1368 Dec 24  2016 colon.1posix.gz\n",
            "-rw-r--r-- 1 root root   1479 Jan 17  2018 colrm.1.gz\n",
            "-rw-r--r-- 1 root root   1790 Jan 17  2018 column.1.gz\n",
            "-rw-r--r-- 1 root root   2584 Dec 24  2016 comm.1posix.gz\n",
            "-rw-r--r-- 1 root root   5511 Dec 24  2016 command.1posix.gz\n",
            "lrwxrwxrwx 1 root root     16 Jul 15  2016 compose.1.gz -> run-mailcap.1.gz\n",
            "-rw-r--r-- 1 root root   3417 Dec 24  2016 compress.1posix.gz\n",
            "-rw-r--r-- 1 root root   1435 Dec 24  2016 continue.1posix.gz\n",
            "-rw-r--r-- 1 root root   7122 Dec 24  2016 cp.1posix.gz\n",
            "-rw-r--r-- 1 root root   2418 Jul 13 07:20 cpack.1.gz\n",
            "-rw-r--r-- 1 root root   4393 Dec 24  2016 crontab.1posix.gz\n",
            "-rw-r--r-- 1 root root   3552 Dec 24  2016 csplit.1posix.gz\n",
            "-rw-r--r-- 1 root root   5046 Dec 24  2016 ctags.1posix.gz\n",
            "-rw-r--r-- 1 root root  10893 Jul 13 07:20 ctest.1.gz\n",
            "-rw-r--r-- 1 root root  38989 May 16 12:40 curl.1.gz\n",
            "-rw-r--r-- 1 root root   1764 May 16 12:40 curl-config.1.gz\n",
            "-rw-r--r-- 1 root root   4502 Dec 24  2016 cut.1posix.gz\n",
            "-rw-r--r-- 1 root root    701 May  2 08:06 cvt.1.gz\n",
            "-rw-r--r-- 1 root root   2469 Dec 24  2016 cxref.1posix.gz\n",
            "-rw-r--r-- 1 root root   6009 Dec 24  2016 date.1posix.gz\n",
            "-rw-r--r-- 1 root root   1177 Jun 10 18:05 dbus-cleanup-sockets.1.gz\n",
            "-rw-r--r-- 1 root root  12535 Jun 10 18:05 dbus-daemon.1.gz\n",
            "-rw-r--r-- 1 root root   1696 Jun 10 18:05 dbus-monitor.1.gz\n",
            "-rw-r--r-- 1 root root   1711 Jun 10 18:05 dbus-run-session.1.gz\n",
            "-rw-r--r-- 1 root root   2123 Jun 10 18:05 dbus-send.1.gz\n",
            "-rw-r--r-- 1 root root   2220 Jun 10 18:05 dbus-update-activation-environment.1.gz\n",
            "-rw-r--r-- 1 root root   1703 Jun 10 18:05 dbus-uuidgen.1.gz\n",
            "-rw-r--r-- 1 root root    826 Mar 29  2018 dconf-service.1.gz\n",
            "-rw-r--r-- 1 root root   7239 Dec 24  2016 dd.1posix.gz\n",
            "-rw-r--r-- 1 root root   3863 Dec 24  2016 delta.1posix.gz\n",
            "-rw-r--r-- 1 root root   2071 Mar 22  2018 derb.1.gz\n",
            "-rw-r--r-- 1 root root   3853 Dec 24  2016 df.1posix.gz\n",
            "-rw-r--r-- 1 root root   2638 Aug  1 21:17 dh_dkms.1.gz\n",
            "-rw-r--r-- 1 root root    488 Dec  5  2017 dh_numpy.1.gz\n",
            "-rw-r--r-- 1 root root   2637 Mar 26  2018 dh_pypy.1.gz\n",
            "-rw-r--r-- 1 root root   3367 Apr 16  2018 dh_python2.1.gz\n",
            "-rw-r--r-- 1 root root   3364 Mar 26  2018 dh_python3.1.gz\n",
            "-rw-r--r-- 1 root root   8091 Dec 24  2016 diff.1posix.gz\n",
            "-rw-r--r-- 1 root root    488 Mar 24  2018 diffimg.1.gz\n",
            "-rw-r--r-- 1 root root    715 Mar 24  2018 dijkstra.1.gz\n",
            "-rw-r--r-- 1 root root   2615 Dec 24  2016 dirname.1posix.gz\n",
            "-rw-r--r-- 1 root root   9779 Mar 24  2018 dot.1.gz\n",
            "-rw-r--r-- 1 root root   1744 Dec 24  2016 dot.1posix.gz\n",
            "-rw-r--r-- 1 root root    772 Mar 24  2018 dotty.1.gz\n",
            "-rw-r--r-- 1 root root   3808 Dec 24  2016 du.1posix.gz\n",
            "-rw-r--r-- 1 root root   2784 Dec 24  2016 echo.1posix.gz\n",
            "-rw-r--r-- 1 root root  13371 Dec 24  2016 ed.1posix.gz\n",
            "-rw-r--r-- 1 root root   1165 Mar 24  2018 edgepaint.1.gz\n",
            "lrwxrwxrwx 1 root root     16 Jul 15  2016 edit.1.gz -> run-mailcap.1.gz\n",
            "-rw-r--r-- 1 root root   3665 Dec 24  2016 env.1posix.gz\n",
            "-rw-r--r-- 1 root root   8517 Feb 10  2018 eqn.1.gz\n",
            "-rw-r--r-- 1 root root   1685 Dec 24  2016 eval.1posix.gz\n",
            "-rw-r--r-- 1 root root  54605 Dec 24  2016 ex.1posix.gz\n",
            "-rw-r--r-- 1 root root   1846 Dec 24  2016 exec.1posix.gz\n",
            "-rw-r--r-- 1 root root   1568 Dec 24  2016 exit.1posix.gz\n",
            "-rw-r--r-- 1 root root   2634 Dec 24  2016 expand.1posix.gz\n",
            "-rw-r--r-- 1 root root   2135 Dec 24  2016 export.1posix.gz\n",
            "-rw-r--r-- 1 root root   4328 Dec 24  2016 expr.1posix.gz\n",
            "lrwxrwxrwx 1 root root     31 Aug 20 16:10 extcheck.1.gz -> /etc/alternatives/extcheck.1.gz\n",
            "-rw-r--r-- 1 root root   2443 Dec  5  2017 f2py.1.gz\n",
            "lrwxrwxrwx 1 root root      9 Dec  5  2017 f2py2.7.1.gz -> f2py.1.gz\n",
            "-rw-r--r-- 1 root root   2443 Dec  5  2017 f2py3.1.gz\n",
            "lrwxrwxrwx 1 root root     10 Dec  5  2017 f2py3.6.1.gz -> f2py3.1.gz\n",
            "lrwxrwxrwx 1 root root     26 Aug 20 16:06 f77.1.gz -> /etc/alternatives/f77.1.gz\n",
            "lrwxrwxrwx 1 root root     26 Aug 20 16:06 f95.1.gz -> /etc/alternatives/f95.1.gz\n",
            "-rw-r--r-- 1 root root   1050 Dec 24  2016 false.1posix.gz\n",
            "-rw-r--r-- 1 root root   5864 Dec 24  2016 fc.1posix.gz\n",
            "-rw-r--r-- 1 root root   1242 Apr  5  2018 fc-cache.1.gz\n",
            "-rw-r--r-- 1 root root    620 Apr  5  2018 fc-cat.1.gz\n",
            "-rw-r--r-- 1 root root   1002 Apr  5  2018 fc-list.1.gz\n",
            "-rw-r--r-- 1 root root    963 Apr  5  2018 fc-match.1.gz\n",
            "-rw-r--r-- 1 root root    818 Apr  5  2018 fc-pattern.1.gz\n",
            "-rw-r--r-- 1 root root    867 Apr  5  2018 fc-query.1.gz\n",
            "-rw-r--r-- 1 root root    750 Apr  5  2018 fc-scan.1.gz\n",
            "-rw-r--r-- 1 root root    754 Apr  5  2018 fc-validate.1.gz\n",
            "lrwxrwxrwx 1 root root      8 Mar 24  2018 fdp.1.gz -> dot.1.gz\n",
            "-rw-r--r-- 1 root root  28869 Apr 24 17:39 ffmpeg.1.gz\n",
            "-rw-r--r-- 1 root root 308613 Apr 24 17:39 ffmpeg-all.1.gz\n",
            "-rw-r--r-- 1 root root   5808 Apr 24 17:39 ffmpeg-bitstream-filters.1.gz\n",
            "-rw-r--r-- 1 root root  40294 Apr 24 17:39 ffmpeg-codecs.1.gz\n",
            "-rw-r--r-- 1 root root  19642 Apr 24 17:39 ffmpeg-devices.1.gz\n",
            "-rw-r--r-- 1 root root 164123 Apr 24 17:39 ffmpeg-filters.1.gz\n",
            "-rw-r--r-- 1 root root  37208 Apr 24 17:39 ffmpeg-formats.1.gz\n",
            "-rw-r--r-- 1 root root  15930 Apr 24 17:39 ffmpeg-protocols.1.gz\n",
            "-rw-r--r-- 1 root root   5068 Apr 24 17:39 ffmpeg-resampler.1.gz\n",
            "-rw-r--r-- 1 root root   3243 Apr 24 17:39 ffmpeg-scaler.1.gz\n",
            "-rw-r--r-- 1 root root  11102 Apr 24 17:39 ffmpeg-utils.1.gz\n",
            "-rw-r--r-- 1 root root   9931 Apr 24 17:39 ffplay.1.gz\n",
            "-rw-r--r-- 1 root root 237379 Apr 24 17:39 ffplay-all.1.gz\n",
            "-rw-r--r-- 1 root root  13025 Apr 24 17:39 ffprobe.1.gz\n",
            "-rw-r--r-- 1 root root 240476 Apr 24 17:39 ffprobe-all.1.gz\n",
            "-rw-r--r-- 1 root root  16130 Apr 24 17:39 ffserver.1.gz\n",
            "-rw-r--r-- 1 root root 295878 Apr 24 17:39 ffserver-all.1.gz\n",
            "-rw-r--r-- 1 root root   2327 Dec 24  2016 fg.1posix.gz\n",
            "-rw-r--r-- 1 root root   1363 Jan  4  2018 fi_info.1.gz\n",
            "-rw-r--r-- 1 root root   7677 Dec 24  2016 file.1posix.gz\n",
            "-rw-r--r-- 1 root root   2755 Feb 19  2018 file-rename.1p.gz\n",
            "-rw-r--r-- 1 root root   9547 Dec 24  2016 find.1posix.gz\n",
            "-rw-r--r-- 1 root root  43367 Oct 24  2017 fio.1.gz\n",
            "-rw-r--r-- 1 root root   1610 Oct 24  2017 fio2gnuplot.1.gz\n",
            "-rw-r--r-- 1 root root    918 Oct 24  2017 fio_generate_plots.1.gz\n",
            "-rw-r--r-- 1 root root   2095 Jan  4  2018 fi_pingpong.1.gz\n",
            "-rw-r--r-- 1 root root    406 Jan  4  2018 fi_strerror.1.gz\n",
            "-rw-r--r-- 1 root root   3626 Dec 24  2016 fold.1posix.gz\n",
            "-rw-r--r-- 1 root root   6667 Dec 24  2016 fort77.1posix.gz\n",
            "-rw-r--r-- 1 root root   1194 Apr 13  2018 freetype-config.1.gz\n",
            "lrwxrwxrwx 1 root root     27 Aug 20 16:06 from.1.gz -> /etc/alternatives/from.1.gz\n",
            "-rw-r--r-- 1 root root   1977 Apr 28  2017 funzip.1.gz\n",
            "-rw-r--r-- 1 root root   2636 Dec 24  2016 fuser.1posix.gz\n",
            "-rw-r--r-- 1 root root    591 Aug 11  2016 fusermount.1.gz\n",
            "-rw-r--r-- 1 root root   2416 Jul  3 18:50 gapplication.1.gz\n",
            "-rw-r--r-- 1 root root    764 Mar 24  2018 gc.1.gz\n",
            "-rw-r--r-- 1 root root   1680 Feb  6  2018 gdal2tiles.1.gz\n",
            "-rw-r--r-- 1 root root   2671 Feb  6  2018 gdaladdo.1.gz\n",
            "-rw-r--r-- 1 root root   3046 Feb  6  2018 gdalbuildvrt.1.gz\n",
            "-rw-r--r-- 1 root root   1070 Feb  6  2018 gdal_calc.1.gz\n",
            "-rw-r--r-- 1 root root    764 Feb  6  2018 gdalcompare.1.gz\n",
            "-rw-r--r-- 1 root root   1130 Feb  6  2018 gdal_contour.1.gz\n",
            "-rw-r--r-- 1 root root   4400 Feb  6  2018 gdaldem.1.gz\n",
            "-rw-r--r-- 1 root root   1703 Feb  6  2018 gdal_edit.1.gz\n",
            "-rw-r--r-- 1 root root    954 Feb  6  2018 gdal_fillnodata.1.gz\n",
            "-rw-r--r-- 1 root root   4380 Feb  6  2018 gdal_grid.1.gz\n",
            "-rw-r--r-- 1 root root   2052 Feb  6  2018 gdalinfo.1.gz\n",
            "-rw-r--r-- 1 root root   1678 Feb  6  2018 gdallocationinfo.1.gz\n",
            "-rw-r--r-- 1 root root    946 Feb  6  2018 gdalmanage.1.gz\n",
            "-rw-r--r-- 1 root root   1473 Feb  6  2018 gdal_merge.1.gz\n",
            "-rw-r--r-- 1 root root    965 Feb  6  2018 gdalmove.1.gz\n",
            "-rw-r--r-- 1 root root   1561 Feb  6  2018 gdal_pansharpen.1.gz\n",
            "-rw-r--r-- 1 root root   1058 Feb  6  2018 gdal_polygonize.1.gz\n",
            "-rw-r--r-- 1 root root   1243 Feb  6  2018 gdal_proximity.1.gz\n",
            "-rw-r--r-- 1 root root   2507 Feb  6  2018 gdal_rasterize.1.gz\n",
            "-rw-r--r-- 1 root root   1899 Feb  6  2018 gdal_retile.1.gz\n",
            "-rw-r--r-- 1 root root   1087 Feb  6  2018 gdal_sieve.1.gz\n",
            "-rw-r--r-- 1 root root   1510 Feb  6  2018 gdalsrsinfo.1.gz\n",
            "-rw-r--r-- 1 root root   1368 Feb  6  2018 gdaltindex.1.gz\n",
            "-rw-r--r-- 1 root root   1635 Feb  6  2018 gdaltransform.1.gz\n",
            "-rw-r--r-- 1 root root   3508 Feb  6  2018 gdal_translate.1.gz\n",
            "-rw-r--r-- 1 root root   3302 Feb  6  2018 gdal_utilities.1.gz\n",
            "-rw-r--r-- 1 root root   4724 Feb  6  2018 gdalwarp.1.gz\n",
            "-rw-r--r-- 1 root root   3173 Jul  3 18:50 gdbus.1.gz\n",
            "-rw-r--r-- 1 root root   8652 Jul  3 18:50 gdbus-codegen.1.gz\n",
            "-rw-r--r-- 1 root root   1360 Mar 22  2018 genbrk.1.gz\n",
            "-rw-r--r-- 1 root root   3259 Dec 24  2016 gencat.1posix.gz\n",
            "-rw-r--r-- 1 root root   1036 Mar 22  2018 gencfu.1.gz\n",
            "-rw-r--r-- 1 root root   1065 Mar 22  2018 gencnval.1.gz\n",
            "-rw-r--r-- 1 root root   1556 Mar 22  2018 gendict.1.gz\n",
            "-rw-r--r-- 1 root root   1673 Mar 22  2018 genrb.1.gz\n",
            "lrwxrwxrwx 1 root root      8 Feb 10  2018 geqn.1.gz -> eqn.1.gz\n",
            "-rw-r--r-- 1 root root   7213 Dec 24  2016 get.1posix.gz\n",
            "-rw-r--r-- 1 root root   3597 Dec 24  2016 getconf.1posix.gz\n",
            "-rw-r--r-- 1 root root   2528 Feb  2  2018 getent.1.gz\n",
            "-rw-r--r-- 1 root root   4447 Dec 24  2016 getopts.1posix.gz\n",
            "lrwxrwxrwx 1 root root     15 May 20 16:08 gfortran.1.gz -> gfortran-7.1.gz\n",
            "lrwxrwxrwx 1 root root     32 May  8 15:53 gfortran-7.1.gz -> x86_64-linux-gnu-gfortran-7.1.gz\n",
            "-rw-r--r-- 1 root root   4045 Jul  3 18:50 gio.1.gz\n",
            "-rw-r--r-- 1 root root    727 Jul  3 18:50 gio-querymodules.1.gz\n",
            "-rw-r--r-- 1 root root  14906 Nov 26  2018 git.1.gz\n",
            "-rw-r--r-- 1 root root   5993 Nov 26  2018 git-add.1.gz\n",
            "-rw-r--r-- 1 root root   3450 Nov 26  2018 git-am.1.gz\n",
            "-rw-r--r-- 1 root root   2830 Nov 26  2018 git-annotate.1.gz\n",
            "-rw-r--r-- 1 root root   4462 Nov 26  2018 git-apply.1.gz\n",
            "-rw-r--r-- 1 root root   3007 Nov 26  2018 git-archive.1.gz\n",
            "-rw-r--r-- 1 root root   6174 Nov 26  2018 git-bisect.1.gz\n",
            "-rw-r--r-- 1 root root   6564 Nov 26  2018 git-blame.1.gz\n",
            "-rw-r--r-- 1 root root   5246 Nov 26  2018 git-branch.1.gz\n",
            "-rw-r--r-- 1 root root   3111 Nov 26  2018 git-bundle.1.gz\n",
            "-rw-r--r-- 1 root root   4108 Nov 26  2018 git-cat-file.1.gz\n",
            "-rw-r--r-- 1 root root   1735 Nov 26  2018 git-check-attr.1.gz\n",
            "-rw-r--r-- 1 root root   2205 Nov 26  2018 git-check-ignore.1.gz\n",
            "-rw-r--r-- 1 root root   1775 Nov 26  2018 git-check-mailmap.1.gz\n",
            "-rw-r--r-- 1 root root   6890 Nov 26  2018 git-checkout.1.gz\n",
            "-rw-r--r-- 1 root root   2771 Nov 26  2018 git-checkout-index.1.gz\n",
            "-rw-r--r-- 1 root root   2879 Nov 26  2018 git-check-ref-format.1.gz\n",
            "-rw-r--r-- 1 root root   1904 Nov 26  2018 git-cherry.1.gz\n",
            "-rw-r--r-- 1 root root   3866 Nov 26  2018 git-cherry-pick.1.gz\n",
            "-rw-r--r-- 1 root root   2321 Nov 26  2018 git-clean.1.gz\n",
            "-rw-r--r-- 1 root root   5847 Nov 26  2018 git-clone.1.gz\n",
            "-rw-r--r-- 1 root root    996 Nov 26  2018 git-column.1.gz\n",
            "-rw-r--r-- 1 root root   8227 Nov 26  2018 git-commit.1.gz\n",
            "-rw-r--r-- 1 root root   3623 Nov 26  2018 git-commit-tree.1.gz\n",
            "-rw-r--r-- 1 root root  56158 Nov 26  2018 git-config.1.gz\n",
            "-rw-r--r-- 1 root root   1072 Nov 26  2018 git-count-objects.1.gz\n",
            "-rw-r--r-- 1 root root   2880 Nov 26  2018 git-credential.1.gz\n",
            "-rw-r--r-- 1 root root   1471 Nov 26  2018 git-credential-cache.1.gz\n",
            "-rw-r--r-- 1 root root    964 Nov 26  2018 git-credential-cache--daemon.1.gz\n",
            "-rw-r--r-- 1 root root   1981 Nov 26  2018 git-credential-store.1.gz\n",
            "-rw-r--r-- 1 root root   5052 Nov 26  2018 git-daemon.1.gz\n",
            "-rw-r--r-- 1 root root   3449 Nov 26  2018 git-describe.1.gz\n",
            "-rw-r--r-- 1 root root  15178 Nov 26  2018 git-diff.1.gz\n",
            "-rw-r--r-- 1 root root  13769 Nov 26  2018 git-diff-files.1.gz\n",
            "-rw-r--r-- 1 root root  15084 Nov 26  2018 git-diff-index.1.gz\n",
            "-rw-r--r-- 1 root root   2285 Nov 26  2018 git-difftool.1.gz\n",
            "-rw-r--r-- 1 root root  19825 Nov 26  2018 git-diff-tree.1.gz\n",
            "-rw-r--r-- 1 root root   3728 Nov 26  2018 git-fast-export.1.gz\n",
            "-rw-r--r-- 1 root root  19321 Nov 26  2018 git-fast-import.1.gz\n",
            "-rw-r--r-- 1 root root   9734 Nov 26  2018 git-fetch.1.gz\n",
            "-rw-r--r-- 1 root root   2317 Nov 26  2018 git-fetch-pack.1.gz\n",
            "-rw-r--r-- 1 root root   7552 Nov 26  2018 git-filter-branch.1.gz\n",
            "-rw-r--r-- 1 root root   1327 Nov 26  2018 git-fmt-merge-msg.1.gz\n",
            "-rw-r--r-- 1 root root   5449 Nov 26  2018 git-for-each-ref.1.gz\n",
            "-rw-r--r-- 1 root root  14107 Nov 26  2018 git-format-patch.1.gz\n",
            "-rw-r--r-- 1 root root   2625 Nov 26  2018 git-fsck.1.gz\n",
            "-rw-r--r-- 1 root root    652 Nov 26  2018 git-fsck-objects.1.gz\n",
            "-rw-r--r-- 1 root root   3264 Nov 26  2018 git-gc.1.gz\n",
            "-rw-r--r-- 1 root root    828 Nov 26  2018 git-get-tar-commit-id.1.gz\n",
            "-rw-r--r-- 1 root root   4044 Nov 26  2018 git-grep.1.gz\n",
            "-rw-r--r-- 1 root root   1461 Nov 26  2018 git-hash-object.1.gz\n",
            "-rw-r--r-- 1 root root   2686 Nov 26  2018 git-help.1.gz\n",
            "-rw-r--r-- 1 root root   3836 Nov 26  2018 git-http-backend.1.gz\n",
            "-rw-r--r-- 1 root root   1078 Nov 26  2018 git-http-fetch.1.gz\n",
            "-rw-r--r-- 1 root root   1849 Nov 26  2018 git-http-push.1.gz\n",
            "-rw-r--r-- 1 root root   2627 Nov 26  2018 git-imap-send.1.gz\n",
            "-rw-r--r-- 1 root root   2042 Nov 26  2018 git-index-pack.1.gz\n",
            "-rw-r--r-- 1 root root   2704 Nov 26  2018 git-init.1.gz\n",
            "-rw-r--r-- 1 root root    694 Nov 26  2018 git-init-db.1.gz\n",
            "-rw-r--r-- 1 root root   1410 Nov 26  2018 git-instaweb.1.gz\n",
            "-rw-r--r-- 1 root root   4420 Nov 26  2018 git-interpret-trailers.1.gz\n",
            "-rw-r--r-- 1 root root  28538 Nov 26  2018 git-log.1.gz\n",
            "-rw-r--r-- 1 root root   3565 Nov 26  2018 git-ls-files.1.gz\n",
            "-rw-r--r-- 1 root root   1823 Nov 26  2018 git-ls-remote.1.gz\n",
            "-rw-r--r-- 1 root root   1970 Nov 26  2018 git-ls-tree.1.gz\n",
            "-rw-r--r-- 1 root root   1970 Nov 26  2018 git-mailinfo.1.gz\n",
            "-rw-r--r-- 1 root root   1243 Nov 26  2018 git-mailsplit.1.gz\n",
            "-rw-r--r-- 1 root root  10042 Nov 26  2018 git-merge.1.gz\n",
            "-rw-r--r-- 1 root root   3335 Nov 26  2018 git-merge-base.1.gz\n",
            "-rw-r--r-- 1 root root   1801 Nov 26  2018 git-merge-file.1.gz\n",
            "-rw-r--r-- 1 root root   1598 Nov 26  2018 git-merge-index.1.gz\n",
            "-rw-r--r-- 1 root root    653 Nov 26  2018 git-merge-one-file.1.gz\n",
            "-rw-r--r-- 1 root root   1888 Nov 26  2018 git-mergetool.1.gz\n",
            "-rw-r--r-- 1 root root   1062 Nov 26  2018 git-mergetool--lib.1.gz\n",
            "-rw-r--r-- 1 root root    829 Nov 26  2018 git-merge-tree.1.gz\n",
            "-rw-r--r-- 1 root root    933 Nov 26  2018 git-mktag.1.gz\n",
            "-rw-r--r-- 1 root root   1026 Nov 26  2018 git-mktree.1.gz\n",
            "-rw-r--r-- 1 root root   1467 Nov 26  2018 git-mv.1.gz\n",
            "-rw-r--r-- 1 root root   1609 Nov 26  2018 git-name-rev.1.gz\n",
            "-rw-r--r-- 1 root root   5554 Nov 26  2018 git-notes.1.gz\n",
            "-rw-r--r-- 1 root root   4671 Nov 26  2018 git-pack-objects.1.gz\n",
            "-rw-r--r-- 1 root root   1054 Nov 26  2018 git-pack-redundant.1.gz\n",
            "-rw-r--r-- 1 root root   1458 Nov 26  2018 git-pack-refs.1.gz\n",
            "-rw-r--r-- 1 root root    727 Nov 26  2018 git-parse-remote.1.gz\n",
            "-rw-r--r-- 1 root root   1514 Nov 26  2018 git-patch-id.1.gz\n",
            "-rw-r--r-- 1 root root   1446 Nov 26  2018 git-prune.1.gz\n",
            "-rw-r--r-- 1 root root    973 Nov 26  2018 git-prune-packed.1.gz\n",
            "-rw-r--r-- 1 root root  11432 Nov 26  2018 git-pull.1.gz\n",
            "-rw-r--r-- 1 root root  10992 Nov 26  2018 git-push.1.gz\n",
            "-rw-r--r-- 1 root root   1148 Nov 26  2018 git-quiltimport.1.gz\n",
            "-rw-r--r-- 1 root root   6635 Nov 26  2018 git-read-tree.1.gz\n",
            "-rw-r--r-- 1 root root  12170 Nov 26  2018 git-rebase.1.gz\n",
            "-rw-r--r-- 1 root root   3963 Nov 26  2018 git-receive-pack.1.gz\n",
            "-rw-r--r-- 1 root root   2264 Nov 26  2018 git-reflog.1.gz\n",
            "-rw-r--r-- 1 root root   3523 Nov 26  2018 git-remote.1.gz\n",
            "-rw-r--r-- 1 root root   1929 Nov 26  2018 git-remote-ext.1.gz\n",
            "-rw-r--r-- 1 root root   1224 Nov 26  2018 git-remote-fd.1.gz\n",
            "-rw-r--r-- 1 root root   6834 Nov 26  2018 gitremote-helpers.1.gz\n",
            "-rw-r--r-- 1 root root    746 Nov 26  2018 git-remote-testgit.1.gz\n",
            "-rw-r--r-- 1 root root   3033 Nov 26  2018 git-repack.1.gz\n",
            "-rw-r--r-- 1 root root   2380 Nov 26  2018 git-replace.1.gz\n",
            "-rw-r--r-- 1 root root   1366 Nov 26  2018 git-request-pull.1.gz\n",
            "-rw-r--r-- 1 root root   3247 Nov 26  2018 git-rerere.1.gz\n",
            "-rw-r--r-- 1 root root   5900 Nov 26  2018 git-reset.1.gz\n",
            "-rw-r--r-- 1 root root   2368 Nov 26  2018 git-revert.1.gz\n",
            "-rw-r--r-- 1 root root  16354 Nov 26  2018 git-rev-list.1.gz\n",
            "-rw-r--r-- 1 root root  10702 Nov 26  2018 git-rev-parse.1.gz\n",
            "-rw-r--r-- 1 root root   3117 Nov 26  2018 git-rm.1.gz\n",
            "-rw-r--r-- 1 root root   2702 Nov 26  2018 git-send-pack.1.gz\n",
            "-rw-r--r-- 1 root root   1781 Nov 26  2018 git-shell.1.gz\n",
            "-rw-r--r-- 1 root root   1020 Nov 26  2018 git-sh-i18n.1.gz\n",
            "-rw-r--r-- 1 root root    962 Nov 26  2018 git-sh-i18n--envsubst.1.gz\n",
            "-rw-r--r-- 1 root root   2558 Nov 26  2018 git-shortlog.1.gz\n",
            "-rw-r--r-- 1 root root  17796 Nov 26  2018 git-show.1.gz\n",
            "-rw-r--r-- 1 root root   3154 Nov 26  2018 git-show-branch.1.gz\n",
            "-rw-r--r-- 1 root root    734 Nov 26  2018 git-show-index.1.gz\n",
            "-rw-r--r-- 1 root root   2832 Nov 26  2018 git-show-ref.1.gz\n",
            "-rw-r--r-- 1 root root   1912 Nov 26  2018 git-sh-setup.1.gz\n",
            "-rw-r--r-- 1 root root    624 Nov 26  2018 git-stage.1.gz\n",
            "-rw-r--r-- 1 root root   4511 Nov 26  2018 git-stash.1.gz\n",
            "-rw-r--r-- 1 root root   6217 Nov 26  2018 git-status.1.gz\n",
            "-rw-r--r-- 1 root root   1361 Nov 26  2018 git-stripspace.1.gz\n",
            "-rw-r--r-- 1 root root   6131 Nov 26  2018 git-submodule.1.gz\n",
            "-rw-r--r-- 1 root root   5219 Nov 26  2018 git-subtree.1.gz\n",
            "-rw-r--r-- 1 root root   1363 Nov 26  2018 git-symbolic-ref.1.gz\n",
            "-rw-r--r-- 1 root root   6205 Nov 26  2018 git-tag.1.gz\n",
            "-rw-r--r-- 1 root root    700 Nov 26  2018 git-unpack-file.1.gz\n",
            "-rw-r--r-- 1 root root   1081 Nov 26  2018 git-unpack-objects.1.gz\n",
            "-rw-r--r-- 1 root root   7623 Nov 26  2018 git-update-index.1.gz\n",
            "-rw-r--r-- 1 root root   2785 Nov 26  2018 git-update-ref.1.gz\n",
            "-rw-r--r-- 1 root root    937 Nov 26  2018 git-update-server-info.1.gz\n",
            "-rw-r--r-- 1 root root   1499 Nov 26  2018 git-upload-archive.1.gz\n",
            "-rw-r--r-- 1 root root   1168 Nov 26  2018 git-upload-pack.1.gz\n",
            "-rw-r--r-- 1 root root   1206 Nov 26  2018 git-var.1.gz\n",
            "-rw-r--r-- 1 root root    759 Nov 26  2018 git-verify-commit.1.gz\n",
            "-rw-r--r-- 1 root root   1003 Nov 26  2018 git-verify-pack.1.gz\n",
            "-rw-r--r-- 1 root root    764 Nov 26  2018 git-verify-tag.1.gz\n",
            "-rw-r--r-- 1 root root   9088 Nov 26  2018 gitweb.1.gz\n",
            "-rw-r--r-- 1 root root   2003 Nov 26  2018 git-web--browse.1.gz\n",
            "-rw-r--r-- 1 root root   1026 Nov 26  2018 git-whatchanged.1.gz\n",
            "-rw-r--r-- 1 root root   4409 Nov 26  2018 git-worktree.1.gz\n",
            "-rw-r--r-- 1 root root    963 Nov 26  2018 git-write-tree.1.gz\n",
            "-rw-r--r-- 1 root root   2117 Jul  3 18:50 glib-compile-resources.1.gz\n",
            "-rw-r--r-- 1 root root   1399 Jul  3 18:50 glib-compile-schemas.1.gz\n",
            "-rw-r--r-- 1 root root   3403 Jul  3 18:50 glib-genmarshal.1.gz\n",
            "-rw-r--r-- 1 root root    895 Jul  3 18:50 glib-gettextize.1.gz\n",
            "-rw-r--r-- 1 root root   3873 Jul  3 18:50 glib-mkenums.1.gz\n",
            "-rw-r--r-- 1 root root    958 Mar 24  2018 gml2gv.1.gz\n",
            "-rw-r--r-- 1 root root    954 Feb  6  2018 gnmanalyse.1.gz\n",
            "-rw-r--r-- 1 root root   1215 Feb  6  2018 gnmmanage.1.gz\n",
            "-rw-r--r-- 1 root root    221 Feb  6  2018 gnm_utilities.1.gz\n",
            "-rw-r--r-- 1 root root    831 Jul  3 18:50 gobject-query.1.gz\n",
            "-rw-r--r-- 1 root root   1317 Jun 24 21:00 google-drive-ocamlfuse.1.gz\n",
            "-rw-r--r-- 1 root root   1148 Apr 25  2018 google-pprof.1.gz\n",
            "-rw-r--r-- 1 root root    519 Dec 23  2017 gphoto2-config.1.gz\n",
            "-rw-r--r-- 1 root root    525 Dec 23  2017 gphoto2-port-config.1.gz\n",
            "lrwxrwxrwx 1 root root      8 Feb 10  2018 gpic.1.gz -> pic.1.gz\n",
            "-rw-r--r-- 1 root root    823 Mar 24  2018 graphml2gv.1.gz\n",
            "-rw-r--r-- 1 root root   4804 Dec 24  2016 grep.1posix.gz\n",
            "-rw-r--r-- 1 root root   1030 Jul  3 18:50 gresource.1.gz\n",
            "-rw-r--r-- 1 root root  10197 Feb 10  2018 groff.1.gz\n",
            "-rw-r--r-- 1 root root   3203 Feb 10  2018 grog.1.gz\n",
            "-rw-r--r-- 1 root root   9708 Feb 10  2018 grops.1.gz\n",
            "-rw-r--r-- 1 root root   3382 Feb 10  2018 grotty.1.gz\n",
            "-rw-r--r-- 1 root root   1506 Jul  3 18:50 gsettings.1.gz\n",
            "lrwxrwxrwx 1 root root      8 Feb 10  2018 gtbl.1.gz -> tbl.1.gz\n",
            "-rw-r--r-- 1 root root   1170 Jul  3 18:50 gtester.1.gz\n",
            "-rw-r--r-- 1 root root    697 Jul  3 18:50 gtester-report.1.gz\n",
            "-rw-r--r-- 1 root root    675 May  2 08:06 gtf.1.gz\n",
            "-rw-r--r-- 1 root root   1199 Jun  5 13:46 gtk-update-icon-cache.1.gz\n",
            "lrwxrwxrwx 1 root root     11 Mar 24  2018 gv2gml.1.gz -> gml2gv.1.gz\n",
            "lrwxrwxrwx 1 root root     11 Mar 24  2018 gv2gxl.1.gz -> gxl2gv.1.gz\n",
            "-rw-r--r-- 1 root root   1113 Mar 24  2018 gvcolor.1.gz\n",
            "-rw-r--r-- 1 root root   1528 Mar 24  2018 gvgen.1.gz\n",
            "-rw-r--r-- 1 root root   2376 Mar 24  2018 gvmap.1.gz\n",
            "-rw-r--r-- 1 root root   1209 Mar 24  2018 gvmap.sh.1.gz\n",
            "-rw-r--r-- 1 root root   1795 Mar 24  2018 gvpack.1.gz\n",
            "-rw-r--r-- 1 root root  12664 Mar 24  2018 gvpr.1.gz\n",
            "-rw-r--r-- 1 root root   1093 Mar 24  2018 gxl2gv.1.gz\n",
            "-rw-r--r-- 1 root root    860 Aug 13  2017 h5c++.1.gz\n",
            "-rw-r--r-- 1 root root    961 Aug 13  2017 h5cc.1.gz\n",
            "-rw-r--r-- 1 root root   1170 Aug 13  2017 h5fc.1.gz\n",
            "-rw-r--r-- 1 root root   2386 Dec 24  2016 hash.1posix.gz\n",
            "lrwxrwxrwx 1 root root     12 Jan 17  2018 hd.1.gz -> hexdump.1.gz\n",
            "-rw-r--r-- 1 root root   2539 Dec 24  2016 head.1posix.gz\n",
            "-rw-r--r-- 1 root root   4587 Jan 17  2018 hexdump.1.gz\n",
            "-rw-r--r-- 1 root root   2570 Jul 22 16:45 hostnamectl.1.gz\n",
            "-rw-r--r-- 1 root root   2552 Feb  2  2018 iconv.1.gz\n",
            "-rw-r--r-- 1 root root   3274 Dec 24  2016 iconv.1posix.gz\n",
            "-rw-r--r-- 1 root root    789 Mar 22  2018 icuinfo.1.gz\n",
            "-rw-r--r-- 1 root root   3412 Dec 24  2016 id.1posix.gz\n",
            "lrwxrwxrwx 1 root root     27 Aug 20 16:10 idlj.1.gz -> /etc/alternatives/idlj.1.gz\n",
            "-rw-r--r-- 1 root root     39 Jul 22 16:45 init.1.gz\n",
            "-rw-r--r-- 1 root root    632 Mar  6  2018 inspect.1.gz\n",
            "-rw-r--r-- 1 root root   3886 Feb  2  2018 intro.1.gz\n",
            "-rw-r--r-- 1 root root   2033 Dec 24  2016 ipcrm.1posix.gz\n",
            "-rw-r--r-- 1 root root   4675 Dec 24  2016 ipcs.1posix.gz\n",
            "lrwxrwxrwx 1 root root     26 Aug 20 16:10 jar.1.gz -> /etc/alternatives/jar.1.gz\n",
            "lrwxrwxrwx 1 root root     32 Aug 20 16:10 jarsigner.1.gz -> /etc/alternatives/jarsigner.1.gz\n",
            "lrwxrwxrwx 1 root root     27 Aug 20 16:10 java.1.gz -> /etc/alternatives/java.1.gz\n",
            "lrwxrwxrwx 1 root root     28 Aug 20 16:10 javac.1.gz -> /etc/alternatives/javac.1.gz\n",
            "lrwxrwxrwx 1 root root     30 Aug 20 16:10 javadoc.1.gz -> /etc/alternatives/javadoc.1.gz\n",
            "lrwxrwxrwx 1 root root     28 Aug 20 16:10 javah.1.gz -> /etc/alternatives/javah.1.gz\n",
            "lrwxrwxrwx 1 root root     28 Aug 20 16:10 javap.1.gz -> /etc/alternatives/javap.1.gz\n",
            "lrwxrwxrwx 1 root root     27 Aug 20 16:10 jcmd.1.gz -> /etc/alternatives/jcmd.1.gz\n",
            "lrwxrwxrwx 1 root root     26 Aug 20 16:10 jdb.1.gz -> /etc/alternatives/jdb.1.gz\n",
            "lrwxrwxrwx 1 root root     28 Aug 20 16:10 jdeps.1.gz -> /etc/alternatives/jdeps.1.gz\n",
            "lrwxrwxrwx 1 root root     27 Aug 20 16:10 jhat.1.gz -> /etc/alternatives/jhat.1.gz\n",
            "lrwxrwxrwx 1 root root     28 Aug 20 16:10 jinfo.1.gz -> /etc/alternatives/jinfo.1.gz\n",
            "lrwxrwxrwx 1 root root     26 Aug 20 16:10 jjs.1.gz -> /etc/alternatives/jjs.1.gz\n",
            "lrwxrwxrwx 1 root root     27 Aug 20 16:10 jmap.1.gz -> /etc/alternatives/jmap.1.gz\n",
            "-rw-r--r-- 1 root root   4031 Dec 24  2016 jobs.1posix.gz\n",
            "-rw-r--r-- 1 root root   4463 Dec 24  2016 join.1posix.gz\n",
            "-rw-r--r-- 1 root root   8655 Jul 22 16:45 journalctl.1.gz\n",
            "lrwxrwxrwx 1 root root     26 Aug 20 16:10 jps.1.gz -> /etc/alternatives/jps.1.gz\n",
            "lrwxrwxrwx 1 root root     33 Aug 20 16:10 jrunscript.1.gz -> /etc/alternatives/jrunscript.1.gz\n",
            "lrwxrwxrwx 1 root root     32 Aug 20 16:10 jsadebugd.1.gz -> /etc/alternatives/jsadebugd.1.gz\n",
            "lrwxrwxrwx 1 root root     29 Aug 20 16:10 jstack.1.gz -> /etc/alternatives/jstack.1.gz\n",
            "lrwxrwxrwx 1 root root     28 Aug 20 16:10 jstat.1.gz -> /etc/alternatives/jstat.1.gz\n",
            "lrwxrwxrwx 1 root root     29 Aug 20 16:10 jstatd.1.gz -> /etc/alternatives/jstatd.1.gz\n",
            "lrwxrwxrwx 1 root root     30 Aug 20 16:10 keytool.1.gz -> /etc/alternatives/keytool.1.gz\n",
            "-rw-r--r-- 1 root root   4411 Dec 24  2016 kill.1posix.gz\n",
            "-rw-r--r-- 1 root root   1540 Feb 26  2018 lcf.1.gz\n",
            "-rw-r--r-- 1 root root   2567 Feb  2  2018 ldd.1.gz\n",
            "-rw-r--r-- 1 root root   1490 Mar 24  2018 lefty.1.gz\n",
            "-rw-r--r-- 1 root root  20494 Dec  1  2017 less.1.gz\n",
            "-rw-r--r-- 1 root root    695 Dec  1  2017 lessecho.1.gz\n",
            "lrwxrwxrwx 1 root root     13 Dec  1  2017 lessfile.1.gz -> lesspipe.1.gz\n",
            "-rw-r--r-- 1 root root   3711 Dec  1  2017 lesskey.1.gz\n",
            "-rw-r--r-- 1 root root   2206 Dec  1  2017 lesspipe.1.gz\n",
            "-rw-r--r-- 1 root root  11840 Dec 24  2016 lex.1posix.gz\n",
            "-rw-r--r-- 1 root root   2298 Aug  4  2018 lexgrog.1.gz\n",
            "-rw-r--r-- 1 root root    562 Apr 30 14:56 libpng16-config.1.gz\n",
            "lrwxrwxrwx 1 root root     20 Apr 30 14:56 libpng-config.1.gz -> libpng16-config.1.gz\n",
            "-rw-r--r-- 1 root root   1711 Dec 24  2016 link.1posix.gz\n",
            "-rw-r--r-- 1 root root   4066 Dec 24  2016 ln.1posix.gz\n",
            "-rw-r--r-- 1 root root    743 Mar 24  2018 lneato.1.gz\n",
            "-rw-r--r-- 1 root root   2443 Feb  2  2018 locale.1.gz\n",
            "-rw-r--r-- 1 root root   4625 Dec 24  2016 locale.1posix.gz\n",
            "-rw-r--r-- 1 root root   2401 Jul 22 16:45 localectl.1.gz\n",
            "-rw-r--r-- 1 root root   3735 Feb  2  2018 localedef.1.gz\n",
            "-rw-r--r-- 1 root root   4106 Dec 24  2016 localedef.1posix.gz\n",
            "-rw-r--r-- 1 root root   2468 Dec 24  2016 logger.1posix.gz\n",
            "-rw-r--r-- 1 root root   3706 Jul 22 16:45 loginctl.1.gz\n",
            "-rw-r--r-- 1 root root   1835 Dec 24  2016 logname.1posix.gz\n",
            "-rw-r--r-- 1 root root   1965 Jan 17  2018 look.1.gz\n",
            "-rw-r--r-- 1 root root   1506 Jan 17  2018 lorder.1.gz\n",
            "-rw-r--r-- 1 root root   5565 Dec 24  2016 lp.1posix.gz\n",
            "-rw-r--r-- 1 root root   9558 Dec 24  2016 ls.1posix.gz\n",
            "-rw-r--r-- 1 root root    824 Dec  5  2017 lsb_release.1.gz\n",
            "-rw-r--r-- 1 root root   7226 Dec 24  2016 m4.1posix.gz\n",
            "-rw-r--r-- 1 root root  20655 Dec 24  2016 mailx.1posix.gz\n",
            "-rw-r--r-- 1 root root  19586 Dec 24  2016 make.1posix.gz\n",
            "-rw-r--r-- 1 root root   1557 Mar 22  2018 makeconv.1.gz\n",
            "-rw-r--r-- 1 root root  12635 Aug  4  2018 man.1.gz\n",
            "-rw-r--r-- 1 root root   3580 Dec 24  2016 man.1posix.gz\n",
            "-rw-r--r-- 1 root root    937 Aug  4  2018 manconv.1.gz\n",
            "-rw-r--r-- 1 root root   1587 Aug  4  2018 manpath.1.gz\n",
            "-rw-r--r-- 1 root root   3096 Feb  2  2018 memusage.1.gz\n",
            "-rw-r--r-- 1 root root   1375 Feb  2  2018 memusagestat.1.gz\n",
            "-rw-r--r-- 1 root root   2509 Dec 24  2016 mesg.1posix.gz\n",
            "-rw-r--r-- 1 root root   1449 Mar 24  2018 mingle.1.gz\n",
            "-rw-r--r-- 1 root root   2931 Dec 24  2016 mkdir.1posix.gz\n",
            "-rw-r--r-- 1 root root   2423 Dec 24  2016 mkfifo.1posix.gz\n",
            "-rw-r--r-- 1 root root   1394 Mar 24  2018 mm2gv.1.gz\n",
            "-rw-r--r-- 1 root root   3859 Mar 25 15:03 moc-qt5.1.gz\n",
            "-rw-r--r-- 1 root root  10485 Dec 24  2016 more.1posix.gz\n",
            "lrwxrwxrwx 1 root root     29 Aug 20 16:10 mpic++.1.gz -> /etc/alternatives/mpic++.1.gz\n",
            "lrwxrwxrwx 1 root root     28 Aug 20 16:10 mpicc.1.gz -> /etc/alternatives/mpicc.1.gz\n",
            "lrwxrwxrwx 1 root root     28 Aug 20 16:10 mpiCC.1.gz -> /etc/alternatives/mpiCC.1.gz\n",
            "-rw-r--r-- 1 root root   3129 Feb  5  2018 mpicc.openmpi.1.gz\n",
            "lrwxrwxrwx 1 root root     19 Feb  5  2018 mpiCC.openmpi.1.gz -> mpic++.openmpi.1.gz\n",
            "-rw-r--r-- 1 root root   3130 Feb  5  2018 mpic++.openmpi.1.gz\n",
            "lrwxrwxrwx 1 root root     29 Aug 20 16:10 mpicxx.1.gz -> /etc/alternatives/mpicxx.1.gz\n",
            "-rw-r--r-- 1 root root   3131 Feb  5  2018 mpicxx.openmpi.1.gz\n",
            "lrwxrwxrwx 1 root root     30 Aug 20 16:10 mpiexec.1.gz -> /etc/alternatives/mpiexec.1.gz\n",
            "-rw-r--r-- 1 root root  17571 Feb  5  2018 mpiexec.openmpi.1.gz\n",
            "lrwxrwxrwx 1 root root     29 Aug 20 16:10 mpif77.1.gz -> /etc/alternatives/mpif77.1.gz\n",
            "-rw-r--r-- 1 root root    482 Feb  5  2018 mpif77.openmpi.1.gz\n",
            "lrwxrwxrwx 1 root root     29 Aug 20 16:10 mpif90.1.gz -> /etc/alternatives/mpif90.1.gz\n",
            "-rw-r--r-- 1 root root    482 Feb  5  2018 mpif90.openmpi.1.gz\n",
            "lrwxrwxrwx 1 root root     30 Aug 20 16:10 mpifort.1.gz -> /etc/alternatives/mpifort.1.gz\n",
            "-rw-r--r-- 1 root root   3129 Feb  5  2018 mpifort.openmpi.1.gz\n",
            "lrwxrwxrwx 1 root root     29 Aug 20 16:10 mpirun.1.gz -> /etc/alternatives/mpirun.1.gz\n",
            "lrwxrwxrwx 1 root root     20 Feb  5  2018 mpirun.openmpi.1.gz -> mpiexec.openmpi.1.gz\n",
            "-rw-r--r-- 1 root root   1160 Feb  2  2018 mtrace.1.gz\n",
            "-rw-r--r-- 1 root root   5217 Dec 24  2016 mv.1posix.gz\n",
            "lrwxrwxrwx 1 root root     35 Aug 20 16:10 native2ascii.1.gz -> /etc/alternatives/native2ascii.1.gz\n",
            "-rw-r--r-- 1 root root   2869 Jan 17  2018 ncal.1.gz\n",
            "-rw-r--r-- 1 root root   1427 May 23  2018 ncurses5-config.1.gz\n",
            "-rw-r--r-- 1 root root   1504 Feb  6  2018 nearblack.1.gz\n",
            "lrwxrwxrwx 1 root root      8 Mar 24  2018 neato.1.gz -> dot.1.gz\n",
            "-rw-r--r-- 1 root root    715 Feb 10  2018 neqn.1.gz\n",
            "-rw-r--r-- 1 root root   1994 Jul 22 16:45 networkctl.1.gz\n",
            "-rw-r--r-- 1 root root   3851 Dec 24  2016 newgrp.1posix.gz\n",
            "-rw-r--r-- 1 root root   3845 Dec 24  2016 nice.1posix.gz\n",
            "-rw-r--r-- 1 root root   3440 Dec 24  2016 nl.1posix.gz\n",
            "-rw-r--r-- 1 root root   4055 Dec 24  2016 nm.1posix.gz\n",
            "-rw-r--r-- 1 root root   3640 Dec 24  2016 nohup.1posix.gz\n",
            "-rw-r--r-- 1 root root    462 Mar 24  2018 nop.1.gz\n",
            "-rw-r--r-- 1 root root   1582 Feb 10  2018 nroff.1.gz\n",
            "-rw-r--r-- 1 root root   2489 Jul 31 06:15 nvidia-cuda-mps-control.1.gz\n",
            "-rw-r--r-- 1 root root   1324 Aug  9 19:16 nvidia-modprobe.1.gz\n",
            "-rw-r--r-- 1 root root   2316 Jul 31 06:15 nvidia-persistenced.1.gz\n",
            "-rw-r--r-- 1 root root   8659 Aug  9 19:15 nvidia-settings.1.gz\n",
            "-rw-r--r-- 1 root root  19971 Jul 31 06:15 nvidia-smi.1.gz\n",
            "-rw-r--r-- 1 root root   8078 Jul 31 06:15 nvidia-xconfig.1.gz\n",
            "-rw-r--r-- 1 root root   9063 Dec 24  2016 od.1posix.gz\n",
            "-rw-r--r-- 1 root root   1662 Mar 26  2018 odbcinst.1.gz\n",
            "-rw-r--r-- 1 root root   5954 Feb  6  2018 ogr2ogr.1.gz\n",
            "-rw-r--r-- 1 root root   3052 Feb  6  2018 ogrinfo.1.gz\n",
            "-rw-r--r-- 1 root root   1352 Feb  6  2018 ogrlineref.1.gz\n",
            "-rw-r--r-- 1 root root   2181 Feb  6  2018 ogrmerge.1.gz\n",
            "-rw-r--r-- 1 root root   1311 Feb  6  2018 ogrtindex.1.gz\n",
            "-rw-r--r-- 1 root root   1171 Feb  6  2018 ogr_utilities.1.gz\n",
            "-rw-r--r-- 1 root root   1093 Feb  5  2018 ompi-clean.1.gz\n",
            "-rw-r--r-- 1 root root   2673 Feb  5  2018 ompi_info.1.gz\n",
            "-rw-r--r-- 1 root root    953 Feb  5  2018 ompi-ps.1.gz\n",
            "-rw-r--r-- 1 root root    805 Feb  5  2018 ompi-server.1.gz\n",
            "-rw-r--r-- 1 root root   1214 Feb  5  2018 ompi-top.1.gz\n",
            "lrwxrwxrwx 1 root root     17 Feb  5  2018 opalc++.1.gz -> opal_wrapper.1.gz\n",
            "-rw-r--r-- 1 root root   3135 Feb  5  2018 opalcc.1.gz\n",
            "lrwxrwxrwx 1 root root     17 Feb  5  2018 opalCC.1.gz -> opal_wrapper.1.gz\n",
            "-rw-r--r-- 1 root root    860 Feb  5  2018 opal_wrapper.1.gz\n",
            "-rw-r--r-- 1 root root   1452 Sep 20  2018 opencv_createsamples.1.gz\n",
            "-rw-r--r-- 1 root root   2151 Sep 20  2018 opencv_haartraining.1.gz\n",
            "-rw-r--r-- 1 root root   1207 Sep 20  2018 opencv_performance.1.gz\n",
            "-rw-r--r-- 1 root root    973 Sep 20  2018 opencv_traincascade.1.gz\n",
            "lrwxrwxrwx 1 root root     27 Aug 20 16:10 orbd.1.gz -> /etc/alternatives/orbd.1.gz\n",
            "lrwxrwxrwx 1 root root     17 Feb  5  2018 ortec++.1.gz -> opal_wrapper.1.gz\n",
            "lrwxrwxrwx 1 root root     17 Feb  5  2018 ortecc.1.gz -> opal_wrapper.1.gz\n",
            "lrwxrwxrwx 1 root root     17 Feb  5  2018 orteCC.1.gz -> opal_wrapper.1.gz\n",
            "-rw-r--r-- 1 root root   1093 Feb  5  2018 orte-clean.1.gz\n",
            "-rw-r--r-- 1 root root    733 Feb  5  2018 orted.1.gz\n",
            "-rw-r--r-- 1 root root   2159 Feb  5  2018 orte-dvm.1.gz\n",
            "-rw-r--r-- 1 root root    953 Feb  5  2018 orte-ps.1.gz\n",
            "-rw-r--r-- 1 root root  17571 Feb  5  2018 orterun.1.gz\n",
            "-rw-r--r-- 1 root root    805 Feb  5  2018 orte-server.1.gz\n",
            "-rw-r--r-- 1 root root   1214 Feb  5  2018 orte-top.1.gz\n",
            "-rw-r--r-- 1 root root   5752 Mar 24  2018 osage.1.gz\n",
            "-rw-r--r-- 1 root root   3147 Feb  5  2018 oshcc.1.gz\n",
            "-rw-r--r-- 1 root root   3149 Feb  5  2018 oshfort.1.gz\n",
            "-rw-r--r-- 1 root root   1726 Feb  5  2018 oshmem_info.1.gz\n",
            "-rw-r--r-- 1 root root  17571 Feb  5  2018 oshrun.1.gz\n",
            "-rw-r--r-- 1 root root    990 Feb  5  2018 p7zip.1.gz\n",
            "lrwxrwxrwx 1 root root     30 Aug 20 16:10 pack200.1.gz -> /etc/alternatives/pack200.1.gz\n",
            "lrwxrwxrwx 1 root root     28 Aug 20 16:06 pager.1.gz -> /etc/alternatives/pager.1.gz\n",
            "-rw-r--r-- 1 root root  46435 Jan 26  2018 pandoc.1.gz\n",
            "-rw-r--r-- 1 root root    881 Apr 28  2017 paperconf.1.gz\n",
            "-rw-r--r-- 1 root root   3489 Dec 24  2016 paste.1posix.gz\n",
            "-rw-r--r-- 1 root root   6487 Dec 24  2016 patch.1posix.gz\n",
            "-rw-r--r-- 1 root root   5841 Mar 24  2018 patchwork.1.gz\n",
            "-rw-r--r-- 1 root root   4363 Dec 24  2016 pathchk.1posix.gz\n",
            "-rw-r--r-- 1 root root  35378 Dec 24  2016 pax.1posix.gz\n",
            "-rw-r--r-- 1 root root    896 Feb 24  2018 pcre2-config.1.gz\n",
            "-rw-r--r-- 1 root root    663 Feb  3  2018 pcre-config.1.gz\n",
            "-rw-r--r-- 1 root root    583 Feb  6  2018 pct2rgb.1.gz\n",
            "lrwxrwxrwx 1 root root     11 Apr 16  2018 pdb.1.gz -> pdb2.7.1.gz\n",
            "-rw-r--r-- 1 root root    301 Nov 27  2018 pdb2.7.1.gz\n",
            "lrwxrwxrwx 1 root root     11 Oct 25  2018 pdb3.1.gz -> pdb3.6.1.gz\n",
            "-rw-r--r-- 1 root root    296 Jan 14  2019 pdb3.6.1.gz\n",
            "-rw-r--r-- 1 root root   8661 Feb 10  2018 pic.1.gz\n",
            "-rw-r--r-- 1 root root    981 Mar 27 13:57 pkaction.1.gz\n",
            "-rw-r--r-- 1 root root   2135 Mar 27 13:57 pkcheck.1.gz\n",
            "-rw-r--r-- 1 root root   3440 Mar 27 13:57 pkexec.1.gz\n",
            "-rw-r--r-- 1 root root   7556 Apr 21  2017 pkg-config.1.gz\n",
            "-rw-r--r-- 1 root root   2742 Mar 22  2018 pkgdata.1.gz\n",
            "-rw-r--r-- 1 root root   1473 Mar 27 13:57 pkttyagent.1.gz\n",
            "-rw-r--r-- 1 root root   1754 Feb  2  2018 pldd.1.gz\n",
            "-rw-r--r-- 1 root root   5790 Dec 24  2016 pr.1posix.gz\n",
            "-rw-r--r-- 1 root root   3185 Feb 10  2018 preconv.1.gz\n",
            "lrwxrwxrwx 1 root root     17 Feb 19  2018 prename.1p.gz -> file-rename.1p.gz\n",
            "lrwxrwxrwx 1 root root     16 Jul 15  2016 print.1.gz -> run-mailcap.1.gz\n",
            "-rw-r--r-- 1 root root   1570 Jan 17  2018 printerbanner.1.gz\n",
            "-rw-r--r-- 1 root root   5586 Dec 24  2016 printf.1posix.gz\n",
            "-rw-r--r-- 1 root root   1537 Mar 30  2018 protoc.1.gz\n",
            "-rw-r--r-- 1 root root   4467 Dec 24  2016 prs.1posix.gz\n",
            "-rw-r--r-- 1 root root   1206 Mar 24  2018 prune.1.gz\n",
            "-rw-r--r-- 1 root root   7045 Dec 24  2016 ps.1posix.gz\n",
            "-rw-r--r-- 1 root root   2550 Dec 24  2016 pwd.1posix.gz\n",
            "-rw-r--r-- 1 root root    587 Oct 25  2018 py3clean.1.gz\n",
            "-rw-r--r-- 1 root root   1013 Oct 25  2018 py3compile.1.gz\n",
            "-rw-r--r-- 1 root root    707 Oct 25  2018 py3versions.1.gz\n",
            "-rw-r--r-- 1 root root   3092 Mar 26  2018 pybuild.1.gz\n",
            "-rw-r--r-- 1 root root    596 Apr 16  2018 pyclean.1.gz\n",
            "-rw-r--r-- 1 root root   1041 Apr 16  2018 pycompile.1.gz\n",
            "lrwxrwxrwx 1 root root     13 Apr 16  2018 pydoc.1.gz -> pydoc2.7.1.gz\n",
            "-rw-r--r-- 1 root root    582 Nov 27  2018 pydoc2.7.1.gz\n",
            "lrwxrwxrwx 1 root root     13 Oct 25  2018 pydoc3.1.gz -> pydoc3.6.1.gz\n",
            "-rw-r--r-- 1 root root    582 Jan 14  2019 pydoc3.6.1.gz\n",
            "lrwxrwxrwx 1 root root     17 Apr 16  2018 pygettext.1.gz -> pygettext2.7.1.gz\n",
            "-rw-r--r-- 1 root root   1682 Nov 27  2018 pygettext2.7.1.gz\n",
            "lrwxrwxrwx 1 root root     17 Oct 25  2018 pygettext3.1.gz -> pygettext3.6.1.gz\n",
            "-rw-r--r-- 1 root root   1682 Nov 23  2013 pygettext3.6.1.gz\n",
            "-rw-r--r-- 1 root root    589 Nov 23  2013 pysetup3.6.1.gz\n",
            "lrwxrwxrwx 1 root root     14 Apr 16  2018 python.1.gz -> python2.7.1.gz\n",
            "lrwxrwxrwx 1 root root     14 Apr 16  2018 python2.1.gz -> python2.7.1.gz\n",
            "-rw-r--r-- 1 root root   5685 Nov 27  2018 python2.7.1.gz\n",
            "lrwxrwxrwx 1 root root     38 Nov 27  2018 python2.7-config.1.gz -> x86_64-linux-gnu-python2.7-config.1.gz\n",
            "lrwxrwxrwx 1 root root     21 Apr 16  2018 python2-config.1.gz -> python2.7-config.1.gz\n",
            "lrwxrwxrwx 1 root root     14 Oct 25  2018 python3.1.gz -> python3.6.1.gz\n",
            "-rw-r--r-- 1 root root   5246 Jan 14  2019 python3.6.1.gz\n",
            "lrwxrwxrwx 1 root root     38 Jan 14  2019 python3.6-config.1.gz -> x86_64-linux-gnu-python3.6-config.1.gz\n",
            "lrwxrwxrwx 1 root root     14 Jan 14  2019 python3.6m.1.gz -> python3.6.1.gz\n",
            "lrwxrwxrwx 1 root root     39 Jan 14  2019 python3.6m-config.1.gz -> x86_64-linux-gnu-python3.6m-config.1.gz\n",
            "lrwxrwxrwx 1 root root     21 Oct 25  2018 python3-config.1.gz -> python3.6-config.1.gz\n",
            "lrwxrwxrwx 1 root root     15 Oct 25  2018 python3m.1.gz -> python3.6m.1.gz\n",
            "lrwxrwxrwx 1 root root     22 Oct 25  2018 python3m-config.1.gz -> python3.6m-config.1.gz\n",
            "lrwxrwxrwx 1 root root     21 Apr 16  2018 python-config.1.gz -> python2.7-config.1.gz\n",
            "-rw-r--r-- 1 root root    560 Apr 16  2018 pyversions.1.gz\n",
            "-rw-r--r-- 1 root root   6830 Dec 24  2016 qalter.1posix.gz\n",
            "-rw-r--r-- 1 root root   2706 Dec 24  2016 qdel.1posix.gz\n",
            "-rw-r--r-- 1 root root   2996 Dec 24  2016 qhold.1posix.gz\n",
            "-rw-r--r-- 1 root root   1198 Mar 25 15:03 qmake-qt5.1.gz\n",
            "-rw-r--r-- 1 root root   2377 Dec 24  2016 qmove.1posix.gz\n",
            "-rw-r--r-- 1 root root   2965 Dec 24  2016 qmsg.1posix.gz\n",
            "-rw-r--r-- 1 root root   2181 Dec 24  2016 qrerun.1posix.gz\n",
            "-rw-r--r-- 1 root root   3077 Dec 24  2016 qrls.1posix.gz\n",
            "-rw-r--r-- 1 root root   5689 Dec 24  2016 qselect.1posix.gz\n",
            "-rw-r--r-- 1 root root   2742 Dec 24  2016 qsig.1posix.gz\n",
            "-rw-r--r-- 1 root root   3139 Dec 24  2016 qstat.1posix.gz\n",
            "-rw-r--r-- 1 root root   9486 Dec 24  2016 qsub.1posix.gz\n",
            "-rw-r--r-- 1 root root   1177 Dec 21  2017 qtchooser.1.gz\n",
            "-rw-r--r-- 1 root root    676 Apr 24 17:39 qt-faststart.1.gz\n",
            "-rw-r--r-- 1 root root    822 Mar  6  2018 quickbook.1.gz\n",
            "-rw-r--r-- 1 root root   2580 Jul 26 13:20 R.1.gz\n",
            "lrwxrwxrwx 1 root root     26 Aug 20 16:06 rcp.1.gz -> /etc/alternatives/rcp.1.gz\n",
            "-rw-r--r-- 1 root root   3021 Dec 24  2016 read.1posix.gz\n",
            "-rw-r--r-- 1 root root   2067 Dec 24  2016 readonly.1posix.gz\n",
            "lrwxrwxrwx 1 root root     29 Aug 20 16:06 rename.1.gz -> /etc/alternatives/rename.1.gz\n",
            "-rw-r--r-- 1 root root   3678 Dec 24  2016 renice.1posix.gz\n",
            "-rw-r--r-- 1 root root   1575 Dec 24  2016 return.1posix.gz\n",
            "-rw-r--r-- 1 root root   1123 Feb  6  2018 rgb2pct.1.gz\n",
            "lrwxrwxrwx 1 root root     29 Aug 20 16:06 rlogin.1.gz -> /etc/alternatives/rlogin.1.gz\n",
            "-rw-r--r-- 1 root root   4369 Dec 24  2016 rm.1posix.gz\n",
            "-rw-r--r-- 1 root root   2304 Dec 24  2016 rmdel.1posix.gz\n",
            "-rw-r--r-- 1 root root   2342 Dec 24  2016 rmdir.1posix.gz\n",
            "lrwxrwxrwx 1 root root     27 Aug 20 16:10 rmic.1.gz -> /etc/alternatives/rmic.1.gz\n",
            "lrwxrwxrwx 1 root root     27 Aug 20 16:10 rmid.1.gz -> /etc/alternatives/rmid.1.gz\n",
            "lrwxrwxrwx 1 root root     34 Aug 20 16:10 rmiregistry.1.gz -> /etc/alternatives/rmiregistry.1.gz\n",
            "-rw-r--r-- 1 root root    659 Jul 26 13:20 Rscript.1.gz\n",
            "lrwxrwxrwx 1 root root     26 Aug 20 16:06 rsh.1.gz -> /etc/alternatives/rsh.1.gz\n",
            "-rw-r--r-- 1 root root  57700 Jan 18  2018 rsync.1.gz\n",
            "-rw-r--r-- 1 root root   1527 Jul 15  2016 run-mailcap.1.gz\n",
            "-rw-r--r-- 1 root root   2398 Dec 24  2016 sact.1posix.gz\n",
            "-rw-r--r-- 1 root root    841 Mar 24  2018 sccmap.1.gz\n",
            "-rw-r--r-- 1 root root   4666 Dec 24  2016 sccs.1posix.gz\n",
            "lrwxrwxrwx 1 root root     32 Aug 20 16:10 schemagen.1.gz -> /etc/alternatives/schemagen.1.gz\n",
            "-rw-r--r-- 1 root root   2404 Mar  4 12:17 scp.1.gz\n",
            "-rw-r--r-- 1 root root   9504 Dec 24  2016 sed.1posix.gz\n",
            "lrwxrwxrwx 1 root root     16 Jul 15  2016 see.1.gz -> run-mailcap.1.gz\n",
            "lrwxrwxrwx 1 root root     32 Aug 20 16:10 serialver.1.gz -> /etc/alternatives/serialver.1.gz\n",
            "lrwxrwxrwx 1 root root     33 Aug 20 16:10 servertool.1.gz -> /etc/alternatives/servertool.1.gz\n",
            "-rw-r--r-- 1 root root   7147 Dec 24  2016 set.1posix.gz\n",
            "-rw-r--r-- 1 root root   1849 May 16  2018 setxkbmap.1.gz\n",
            "lrwxrwxrwx 1 root root      8 Mar 24  2018 sfdp.1.gz -> dot.1.gz\n",
            "-rw-r--r-- 1 root root   5353 Mar  4 12:17 sftp.1.gz\n",
            "lrwxrwxrwx 1 root root      9 Jul 18 21:19 sh.1.gz -> dash.1.gz\n",
            "-rw-r--r-- 1 root root  15290 Dec 24  2016 sh.1posix.gz\n",
            "-rw-r--r-- 1 root root   1465 Dec 24  2016 shift.1posix.gz\n",
            "-rw-r--r-- 1 root root   2374 Dec 24  2016 sleep.1posix.gz\n",
            "lrwxrwxrwx 1 root root      8 Mar  4 12:17 slogin.1.gz -> ssh.1.gz\n",
            "-rw-r--r-- 1 root root   1542 Mar 24  2018 smyrna.1.gz\n",
            "-rw-r--r-- 1 root root   1862 Feb 10  2018 soelim.1.gz\n",
            "-rw-r--r-- 1 root root   6935 Dec 24  2016 sort.1posix.gz\n",
            "-rw-r--r-- 1 root root   3479 Dec 24  2016 split.1posix.gz\n",
            "-rw-r--r-- 1 root root   2878 Feb  2  2018 sprof.1.gz\n",
            "-rw-r--r-- 1 root root  14595 Mar  4 12:17 ssh.1.gz\n",
            "-rw-r--r-- 1 root root   2870 Mar  4 12:17 ssh-add.1.gz\n",
            "-rw-r--r-- 1 root root   3402 Mar  4 12:17 ssh-agent.1.gz\n",
            "-rw-r--r-- 1 root root    721 Mar  4 12:17 ssh-argv0.1.gz\n",
            "-rw-r--r-- 1 root root   2956 Mar  4 12:17 ssh-copy-id.1.gz\n",
            "-rw-r--r-- 1 root root   9138 Mar  4 12:17 ssh-keygen.1.gz\n",
            "-rw-r--r-- 1 root root   2028 Mar  4 12:17 ssh-keyscan.1.gz\n",
            "-rw-r--r-- 1 root root   2834 Dec 24  2016 strings.1posix.gz\n",
            "-rw-r--r-- 1 root root   2152 Dec 24  2016 strip.1posix.gz\n",
            "-rw-r--r-- 1 root root   7202 Dec 24  2016 stty.1posix.gz\n",
            "-rw-r--r-- 1 root root  17496 Jul 22 16:45 systemctl.1.gz\n",
            "-rw-r--r-- 1 root root  10054 Jul 22 16:45 systemd.1.gz\n",
            "-rw-r--r-- 1 root root   4404 Jul 22 16:45 systemd-analyze.1.gz\n",
            "-rw-r--r-- 1 root root   2489 Jul 22 16:45 systemd-ask-password.1.gz\n",
            "-rw-r--r-- 1 root root   1544 Jul 22 16:45 systemd-cat.1.gz\n",
            "-rw-r--r-- 1 root root   1077 Jul 22 16:45 systemd-cgls.1.gz\n",
            "-rw-r--r-- 1 root root   2674 Jul 22 16:45 systemd-cgtop.1.gz\n",
            "-rw-r--r-- 1 root root   1621 Jul 22 16:45 systemd-delta.1.gz\n",
            "-rw-r--r-- 1 root root   2049 Jul 22 16:45 systemd-detect-virt.1.gz\n",
            "-rw-r--r-- 1 root root   1626 Jul 22 16:45 systemd-escape.1.gz\n",
            "-rw-r--r-- 1 root root   1599 Jul 22 16:45 systemd-inhibit.1.gz\n",
            "-rw-r--r-- 1 root root   1762 Jul 22 16:45 systemd-machine-id-setup.1.gz\n",
            "-rw-r--r-- 1 root root   3924 Jul 22 16:45 systemd-mount.1.gz\n",
            "-rw-r--r-- 1 root root   2195 Jul 22 16:45 systemd-notify.1.gz\n",
            "-rw-r--r-- 1 root root    886 Jul 22 16:45 systemd-path.1.gz\n",
            "-rw-r--r-- 1 root root   5035 Jul 22 16:45 systemd-resolve.1.gz\n",
            "-rw-r--r-- 1 root root   5289 Jul 22 16:45 systemd-run.1.gz\n",
            "-rw-r--r-- 1 root root   1799 Jul 22 16:45 systemd-socket-activate.1.gz\n",
            "-rw-r--r-- 1 root root   1081 Jul 22 16:45 systemd-tty-ask-password-agent.1.gz\n",
            "lrwxrwxrwx 1 root root     18 Jul 22 16:45 systemd-umount.1.gz -> systemd-mount.1.gz\n",
            "-rw-r--r-- 1 root root   3725 Dec 24  2016 tabs.1posix.gz\n",
            "-rw-r--r-- 1 root root   3860 Dec 24  2016 tail.1posix.gz\n",
            "-rw-r--r-- 1 root root   3938 Dec 24  2016 talk.1posix.gz\n",
            "-rw-r--r-- 1 root root   8211 Feb 10  2018 tbl.1.gz\n",
            "lrwxrwxrwx 1 root root     13 Nov 20  2015 tclsh.1.gz -> tclsh8.6.1.gz\n",
            "-rw-r--r-- 1 root root   4819 Feb 22  2018 tclsh8.6.1.gz\n",
            "-rw-r--r-- 1 root root    523 Nov 20  2015 tcltk-depends.1.gz\n",
            "-rw-r--r-- 1 root root   2550 Dec 24  2016 tee.1posix.gz\n",
            "-rw-r--r-- 1 root root   6757 Dec 24  2016 test.1posix.gz\n",
            "-rw-r--r-- 1 root root   4131 Dec 24  2016 time.1posix.gz\n",
            "-rw-r--r-- 1 root root   2865 Jul 22 16:45 timedatectl.1.gz\n",
            "-rw-r--r-- 1 root root   1482 Dec 24  2016 times.1posix.gz\n",
            "lrwxrwxrwx 1 root root     32 Aug 20 16:10 tnameserv.1.gz -> /etc/alternatives/tnameserv.1.gz\n",
            "-rw-r--r-- 1 root root   5251 Dec 24  2016 touch.1posix.gz\n",
            "-rw-r--r-- 1 root root   2957 Dec 24  2016 tput.1posix.gz\n",
            "-rw-r--r-- 1 root root   6574 Dec 24  2016 tr.1posix.gz\n",
            "-rw-r--r-- 1 root root   3636 Dec 24  2016 trap.1posix.gz\n",
            "-rw-r--r-- 1 root root    679 Mar 24  2018 tred.1.gz\n",
            "-rw-r--r-- 1 root root   4481 Feb 10  2018 troff.1.gz\n",
            "-rw-r--r-- 1 root root   1295 Dec 24  2016 true.1posix.gz\n",
            "-rw-r--r-- 1 root root   2009 Dec 24  2016 tsort.1posix.gz\n",
            "-rw-r--r-- 1 root root   1997 Dec 24  2016 tty.1posix.gz\n",
            "lrwxrwxrwx 1 root root      8 Mar 24  2018 twopi.1.gz -> dot.1.gz\n",
            "-rw-r--r-- 1 root root   1939 Dec 24  2016 type.1posix.gz\n",
            "-rw-r--r-- 1 root root   5422 Feb 26  2018 ucf.1.gz\n",
            "-rw-r--r-- 1 root root   3388 Feb 26  2018 ucfq.1.gz\n",
            "-rw-r--r-- 1 root root   2489 Feb 26  2018 ucfr.1.gz\n",
            "-rw-r--r-- 1 root root   3404 Mar 22  2018 uconv.1.gz\n",
            "-rw-r--r-- 1 root root   1767 Jan 17  2018 ul.1.gz\n",
            "-rw-r--r-- 1 root root   2194 Dec 24  2016 ulimit.1posix.gz\n",
            "-rw-r--r-- 1 root root    529 Aug 11  2016 ulockmgr_server.1.gz\n",
            "-rw-r--r-- 1 root root   3473 Dec 24  2016 umask.1posix.gz\n",
            "-rw-r--r-- 1 root root   2187 Dec 24  2016 unalias.1posix.gz\n",
            "-rw-r--r-- 1 root root   2572 Dec 24  2016 uname.1posix.gz\n",
            "-rw-r--r-- 1 root root   2536 Dec 24  2016 uncompress.1posix.gz\n",
            "-rw-r--r-- 1 root root   2983 Dec 24  2016 unexpand.1posix.gz\n",
            "-rw-r--r-- 1 root root    832 Mar 24  2018 unflatten.1.gz\n",
            "-rw-r--r-- 1 root root   2445 Dec 24  2016 unget.1posix.gz\n",
            "-rw-r--r-- 1 root root   3321 Dec 24  2016 uniq.1posix.gz\n",
            "-rw-r--r-- 1 root root   1672 Dec 24  2016 unlink.1posix.gz\n",
            "lrwxrwxrwx 1 root root     32 Aug 20 16:10 unpack200.1.gz -> /etc/alternatives/unpack200.1.gz\n",
            "lrwxrwxrwx 1 root root     28 Aug 20 16:09 unrar.1.gz -> /etc/alternatives/unrar.1.gz\n",
            "-rw-r--r-- 1 root root    880 Aug 21  2017 unrar-nonfree.1.gz\n",
            "-rw-r--r-- 1 root root   1881 Dec 24  2016 unset.1posix.gz\n",
            "-rw-r--r-- 1 root root  18130 Apr 28  2017 unzip.1.gz\n",
            "-rw-r--r-- 1 root root   5508 Apr 28  2017 unzipsfx.1.gz\n",
            "-rw-r--r-- 1 root root    778 Oct 10  2017 update-mime-database.1.gz\n",
            "-rw-r--r-- 1 root root   3751 Dec 24  2016 uucp.1posix.gz\n",
            "-rw-r--r-- 1 root root   2940 Dec 24  2016 uudecode.1posix.gz\n",
            "-rw-r--r-- 1 root root   5067 Dec 24  2016 uuencode.1posix.gz\n",
            "-rw-r--r-- 1 root root   2325 Dec 24  2016 uustat.1posix.gz\n",
            "-rw-r--r-- 1 root root   4106 Dec 24  2016 uux.1posix.gz\n",
            "-rw-r--r-- 1 root root   3044 Dec 24  2016 val.1posix.gz\n",
            "-rw-r--r-- 1 root root  32010 Dec 24  2016 vi.1posix.gz\n",
            "-rw-r--r-- 1 root root    500 Mar 24  2018 vimdot.1.gz\n",
            "-rw-r--r-- 1 root root   4099 Dec 24  2016 wait.1posix.gz\n",
            "-rw-r--r-- 1 root root   3133 Dec 24  2016 wc.1posix.gz\n",
            "-rw-r--r-- 1 root root  35730 Apr  8 18:51 wget.1.gz\n",
            "-rw-r--r-- 1 root root   2198 Dec 24  2016 what.1posix.gz\n",
            "-rw-r--r-- 1 root root   2691 Aug  4  2018 whatis.1.gz\n",
            "-rw-r--r-- 1 root root   4002 Dec 24  2016 who.1posix.gz\n",
            "lrwxrwxrwx 1 root root     12 Nov 20  2015 wish.1.gz -> wish8.6.1.gz\n",
            "-rw-r--r-- 1 root root   5913 Mar 24  2018 wish8.6.1.gz\n",
            "lrwxrwxrwx 1 root root     28 Aug 20 16:06 write.1.gz -> /etc/alternatives/write.1.gz\n",
            "-rw-r--r-- 1 root root   3063 Dec 24  2016 write.1posix.gz\n",
            "lrwxrwxrwx 1 root root     28 Aug 20 16:10 wsgen.1.gz -> /etc/alternatives/wsgen.1.gz\n",
            "lrwxrwxrwx 1 root root     31 Aug 20 16:10 wsimport.1.gz -> /etc/alternatives/wsimport.1.gz\n",
            "lrwxrwxrwx 1 root root     15 May 20 16:08 x86_64-linux-gnu-gfortran.1.gz -> gfortran-7.1.gz\n",
            "-rw-r--r-- 1 root root  22149 May  8 15:53 x86_64-linux-gnu-gfortran-7.1.gz\n",
            "-rw-r--r-- 1 root root    921 Nov 27  2018 x86_64-linux-gnu-python2.7-config.1.gz\n",
            "lrwxrwxrwx 1 root root     39 Jan 14  2019 x86_64-linux-gnu-python3.6-config.1.gz -> x86_64-linux-gnu-python3.6m-config.1.gz\n",
            "-rw-r--r-- 1 root root    907 Nov 23  2013 x86_64-linux-gnu-python3.6m-config.1.gz\n",
            "lrwxrwxrwx 1 root root     38 Oct 25  2018 x86_64-linux-gnu-python3-config.1.gz -> x86_64-linux-gnu-python3.6-config.1.gz\n",
            "lrwxrwxrwx 1 root root     39 Oct 25  2018 x86_64-linux-gnu-python3m-config.1.gz -> x86_64-linux-gnu-python3.6m-config.1.gz\n",
            "lrwxrwxrwx 1 root root     38 Apr 16  2018 x86_64-linux-gnu-python-config.1.gz -> x86_64-linux-gnu-python2.7-config.1.gz\n",
            "-rw-r--r-- 1 root root   7572 Dec 24  2016 xargs.1posix.gz\n",
            "-rw-r--r-- 1 root root   4273 Nov 21  2017 xauth.1.gz\n",
            "-rw-r--r-- 1 root root   2655 Oct  2  2018 xdg-desktop-icon.1.gz\n",
            "-rw-r--r-- 1 root root   4653 Oct  2  2018 xdg-desktop-menu.1.gz\n",
            "-rw-r--r-- 1 root root   2112 Oct  2  2018 xdg-email.1.gz\n",
            "-rw-r--r-- 1 root root   2814 Oct  2  2018 xdg-icon-resource.1.gz\n",
            "-rw-r--r-- 1 root root   2880 Oct  2  2018 xdg-mime.1.gz\n",
            "-rw-r--r-- 1 root root   1271 Oct  2  2018 xdg-open.1.gz\n",
            "-rw-r--r-- 1 root root   1560 Oct  2  2018 xdg-screensaver.1.gz\n",
            "-rw-r--r-- 1 root root   1668 Oct  2  2018 xdg-settings.1.gz\n",
            "lrwxrwxrwx 1 root root     26 Aug 20 16:10 xjc.1.gz -> /etc/alternatives/xjc.1.gz\n",
            "-rw-r--r-- 1 root root   1099 May 16  2018 xkbbell.1.gz\n",
            "-rw-r--r-- 1 root root   1826 May 16  2018 xkbcomp.1.gz\n",
            "-rw-r--r-- 1 root root   1864 May 16  2018 xkbevd.1.gz\n",
            "-rw-r--r-- 1 root root   1453 May 16  2018 xkbprint.1.gz\n",
            "-rw-r--r-- 1 root root   1164 May 16  2018 xkbvleds.1.gz\n",
            "-rw-r--r-- 1 root root    983 May 16  2018 xkbwatch.1.gz\n",
            "-rw-r--r-- 1 root root    696 Aug 10  2018 xml2-config.1.gz\n",
            "-rw-r--r-- 1 root root   6812 May  2 08:06 Xorg.1.gz\n",
            "-rw-r--r-- 1 root root   1750 Oct 15  2017 xsel.1x.gz\n",
            "-rw-r--r-- 1 root root   9153 May 31 11:10 Xserver.1.gz\n",
            "-rw-r--r-- 1 root root  16471 Dec 24  2016 yacc.1posix.gz\n",
            "-rw-r--r-- 1 root root   1835 Dec 24  2016 zcat.1posix.gz\n",
            "-rw-r--r-- 1 root root  28488 Apr 21  2017 zip.1.gz\n",
            "-rw-r--r-- 1 root root    951 Apr 21  2017 zipcloak.1.gz\n",
            "-rw-r--r-- 1 root root   1541 Apr 28  2017 zipgrep.1.gz\n",
            "-rw-r--r-- 1 root root   8884 Apr 28  2017 zipinfo.1.gz\n",
            "-rw-r--r-- 1 root root    793 Apr 21  2017 zipnote.1.gz\n",
            "-rw-r--r-- 1 root root    596 Apr 21  2017 zipsplit.1.gz\n",
            "-rw-r--r-- 1 root root   1035 Aug  4  2018 zsoelim.1.gz\n"
          ],
          "name": "stdout"
        }
      ]
    },
    {
      "cell_type": "code",
      "metadata": {
        "id": "OCC5QqEIi1-Y",
        "colab_type": "code",
        "outputId": "a92ef397-fe0c-41c5-fdbe-74ca017eb7a8",
        "colab": {
          "base_uri": "https://localhost:8080/",
          "height": 35
        }
      },
      "source": [
        "!whereis java"
      ],
      "execution_count": 0,
      "outputs": [
        {
          "output_type": "stream",
          "text": [
            "java: /usr/bin/java /usr/share/java /usr/share/man/man1/java.1.gz\n"
          ],
          "name": "stdout"
        }
      ]
    },
    {
      "cell_type": "code",
      "metadata": {
        "id": "mmRTAa7rirnz",
        "colab_type": "code",
        "outputId": "f309a140-4dc9-4b84-a38e-5db814c9fffa",
        "colab": {
          "base_uri": "https://localhost:8080/",
          "height": 89
        }
      },
      "source": [
        "!java -version\n",
        "!javac -version"
      ],
      "execution_count": 0,
      "outputs": [
        {
          "output_type": "stream",
          "text": [
            "openjdk version \"11.0.4\" 2019-07-16\n",
            "OpenJDK Runtime Environment (build 11.0.4+11-post-Ubuntu-1ubuntu218.04.3)\n",
            "OpenJDK 64-Bit Server VM (build 11.0.4+11-post-Ubuntu-1ubuntu218.04.3, mixed mode, sharing)\n",
            "javac 1.8.0_222\n"
          ],
          "name": "stdout"
        }
      ]
    },
    {
      "cell_type": "markdown",
      "metadata": {
        "id": "V5GakUK6r8hr",
        "colab_type": "text"
      },
      "source": [
        "设置系统默认jdk"
      ]
    },
    {
      "cell_type": "code",
      "metadata": {
        "id": "MtdPlfwih3Et",
        "colab_type": "code",
        "outputId": "d51ea0d7-d3b9-4408-f091-3dffaf822893",
        "colab": {
          "base_uri": "https://localhost:8080/",
          "height": 35
        }
      },
      "source": [
        "!update-java-alternatives -s java-8-oracle"
      ],
      "execution_count": 0,
      "outputs": [
        {
          "output_type": "stream",
          "text": [
            "update-java-alternatives: directory does not exist: /usr/lib/jvm/java-8-oracle\n"
          ],
          "name": "stdout"
        }
      ]
    },
    {
      "cell_type": "code",
      "metadata": {
        "id": "m1QOpk2vg-oZ",
        "colab_type": "code",
        "outputId": "fe747dab-15d8-441b-8f88-7d1d7dd1e698",
        "colab": {
          "base_uri": "https://localhost:8080/",
          "height": 1000
        }
      },
      "source": [
        "!sudo apt-get install python-software-properties\n",
        "!sudo add-apt-repository ppa:webupd8team/java\n",
        "!sudo apt-get update"
      ],
      "execution_count": 0,
      "outputs": [
        {
          "output_type": "stream",
          "text": [
            "\rReading package lists... 0%\r\rReading package lists... 0%\r\rReading package lists... 0%\r\rReading package lists... 7%\r\rReading package lists... 7%\r\rReading package lists... 7%\r\rReading package lists... 7%\r\rReading package lists... 68%\r\rReading package lists... 68%\r\rReading package lists... 68%\r\rReading package lists... 68%\r\rReading package lists... 74%\r\rReading package lists... 74%\r\rReading package lists... 74%\r\rReading package lists... 74%\r\rReading package lists... 84%\r\rReading package lists... 84%\r\rReading package lists... 84%\r\rReading package lists... 84%\r\rReading package lists... 84%\r\rReading package lists... 84%\r\rReading package lists... 84%\r\rReading package lists... 84%\r\rReading package lists... 88%\r\rReading package lists... 88%\r\rReading package lists... 88%\r\rReading package lists... 88%\r\rReading package lists... 93%\r\rReading package lists... 93%\r\rReading package lists... 93%\r\rReading package lists... 93%\r\rReading package lists... 93%\r\rReading package lists... 94%\r\rReading package lists... 94%\r\rReading package lists... 94%\r\rReading package lists... 94%\r\rReading package lists... 94%\r\rReading package lists... 94%\r\rReading package lists... 95%\r\rReading package lists... 95%\r\rReading package lists... 98%\r\rReading package lists... 98%\r\rReading package lists... 98%\r\rReading package lists... 98%\r\rReading package lists... Done\r\n",
            "\rBuilding dependency tree... 0%\r\rBuilding dependency tree... 0%\r\rBuilding dependency tree... 50%\r\rBuilding dependency tree... 50%\r\rBuilding dependency tree       \r\n",
            "\rReading state information... 0%\r\rReading state information... 0%\r\rReading state information... Done\r\n",
            "Package python-software-properties is not available, but is referred to by another package.\n",
            "This may mean that the package is missing, has been obsoleted, or\n",
            "is only available from another source\n",
            "However the following packages replace it:\n",
            "  software-properties-common\n",
            "\n",
            "E: Package 'python-software-properties' has no installation candidate\n",
            " The Oracle JDK License has changed for releases starting April 16, 2019.\n",
            "\n",
            "The new Oracle Technology Network License Agreement for Oracle Java SE is substantially different from prior Oracle JDK licenses. The new license permits certain uses, such as personal use and development use, at no cost -- but other uses authorized under prior Oracle JDK licenses may no longer be available. Please review the terms carefully before downloading and using this product. An FAQ is available here: https://www.oracle.com/technetwork/java/javase/overview/oracle-jdk-faqs.html\n",
            "\n",
            "Oracle Java downloads now require logging in to an Oracle account to download Java updates, like the latest Oracle Java 8u211 / Java SE 8u212. Because of this I cannot update the PPA with the latest Java (and the old links were broken by Oracle).\n",
            "\n",
            "For this reason, THIS PPA IS DISCONTINUED (unless I find some way around this limitation).\n",
            "\n",
            "Oracle Java (JDK) Installer (automatically downloads and installs Oracle JDK8). There are no actual Java files in this PPA.\n",
            "\n",
            "Important -> Why Oracle Java 7 And 6 Installers No Longer Work: http://www.webupd8.org/2017/06/why-oracle-java-7-and-6-installers-no.html\n",
            "\n",
            "Update: Oracle Java 9 has reached end of life: http://www.oracle.com/technetwork/java/javase/downloads/jdk9-downloads-3848520.html\n",
            "\n",
            "The PPA supports Ubuntu 18.10, 18.04, 16.04, 14.04 and 12.04.\n",
            "\n",
            "More info (and Ubuntu installation instructions):\n",
            "- http://www.webupd8.org/2012/09/install-oracle-java-8-in-ubuntu-via-ppa.html\n",
            "\n",
            "Debian installation instructions:\n",
            "- Oracle Java 8: http://www.webupd8.org/2014/03/how-to-install-oracle-java-8-in-debian.html\n",
            "\n",
            "For Oracle Java 11, see a different PPA -> https://www.linuxuprising.com/2019/06/new-oracle-java-11-installer-for-ubuntu.html\n",
            " More info: https://launchpad.net/~webupd8team/+archive/ubuntu/java\n",
            "Press [ENTER] to continue or Ctrl-c to cancel adding it.\n",
            "\n",
            "Get:1 https://cloud.r-project.org/bin/linux/ubuntu bionic-cran35/ InRelease [3,626 B]\n",
            "Ign:2 https://developer.download.nvidia.com/compute/cuda/repos/ubuntu1804/x86_64  InRelease\n",
            "Ign:3 https://developer.download.nvidia.com/compute/machine-learning/repos/ubuntu1804/x86_64  InRelease\n",
            "Hit:4 https://developer.download.nvidia.com/compute/cuda/repos/ubuntu1804/x86_64  Release\n",
            "Hit:5 https://developer.download.nvidia.com/compute/machine-learning/repos/ubuntu1804/x86_64  Release\n",
            "Get:6 http://security.ubuntu.com/ubuntu bionic-security InRelease [88.7 kB]\n",
            "Hit:8 http://ppa.launchpad.net/alessandro-strada/ppa/ubuntu bionic InRelease\n",
            "Hit:10 http://archive.ubuntu.com/ubuntu bionic InRelease\n",
            "Hit:11 http://ppa.launchpad.net/graphics-drivers/ppa/ubuntu bionic InRelease\n",
            "Get:12 http://archive.ubuntu.com/ubuntu bionic-updates InRelease [88.7 kB]\n",
            "Hit:13 http://ppa.launchpad.net/marutter/c2d4u3.5/ubuntu bionic InRelease\n",
            "Get:14 http://archive.ubuntu.com/ubuntu bionic-backports InRelease [74.6 kB]\n",
            "Hit:15 http://ppa.launchpad.net/webupd8team/java/ubuntu bionic InRelease\n",
            "Fetched 256 kB in 3s (101 kB/s)\n",
            "Reading package lists... Done\n",
            "Hit:1 https://cloud.r-project.org/bin/linux/ubuntu bionic-cran35/ InRelease\n",
            "Ign:2 https://developer.download.nvidia.com/compute/cuda/repos/ubuntu1804/x86_64  InRelease\n",
            "Ign:3 https://developer.download.nvidia.com/compute/machine-learning/repos/ubuntu1804/x86_64  InRelease\n",
            "Hit:4 https://developer.download.nvidia.com/compute/cuda/repos/ubuntu1804/x86_64  Release\n",
            "Hit:5 https://developer.download.nvidia.com/compute/machine-learning/repos/ubuntu1804/x86_64  Release\n",
            "Get:6 http://security.ubuntu.com/ubuntu bionic-security InRelease [88.7 kB]\n",
            "Hit:8 http://ppa.launchpad.net/alessandro-strada/ppa/ubuntu bionic InRelease\n",
            "Hit:9 http://archive.ubuntu.com/ubuntu bionic InRelease\n",
            "Get:11 http://archive.ubuntu.com/ubuntu bionic-updates InRelease [88.7 kB]\n",
            "Hit:12 http://ppa.launchpad.net/graphics-drivers/ppa/ubuntu bionic InRelease\n",
            "Hit:13 http://ppa.launchpad.net/marutter/c2d4u3.5/ubuntu bionic InRelease\n",
            "Get:14 http://archive.ubuntu.com/ubuntu bionic-backports InRelease [74.6 kB]\n",
            "Hit:15 http://ppa.launchpad.net/webupd8team/java/ubuntu bionic InRelease\n",
            "Fetched 252 kB in 2s (105 kB/s)\n",
            "Reading package lists... Done\n"
          ],
          "name": "stdout"
        }
      ]
    },
    {
      "cell_type": "markdown",
      "metadata": {
        "id": "SGdWZnBamZMp",
        "colab_type": "text"
      },
      "source": [
        "安装oracle-java-installer\n",
        "第一句代码是为了提前告诉系统我们同意 oracle 的服务条款，否则安装程序会因为无法弹出协议窗口而自动停止。\n",
        "\n",
        "到这里我们就正式地开始下载并安装Java了，Colab下载各种东西的速度都很快，不用担心网速的问题~"
      ]
    },
    {
      "cell_type": "code",
      "metadata": {
        "id": "UrkcwvoNeD9u",
        "colab_type": "code",
        "outputId": "98466485-22ef-4950-e68a-980c9a9b4e70",
        "colab": {
          "base_uri": "https://localhost:8080/",
          "height": 161
        }
      },
      "source": [
        "!echo oracle-java11-installer shared/accepted-oracle-license-v1-1 select true | /usr/bin/debconf-set-selections\n",
        "!apt-get install oracle-java11-installer"
      ],
      "execution_count": 0,
      "outputs": [
        {
          "output_type": "stream",
          "text": [
            "\rReading package lists... 0%\r\rReading package lists... 0%\r\rReading package lists... 0%\r\rReading package lists... 7%\r\rReading package lists... 7%\r\rReading package lists... 7%\r\rReading package lists... 7%\r\rReading package lists... 68%\r\rReading package lists... 68%\r\rReading package lists... 68%\r\rReading package lists... 68%\r\rReading package lists... 74%\r\rReading package lists... 74%\r\rReading package lists... 74%\r\rReading package lists... 74%\r\rReading package lists... 84%\r\rReading package lists... 84%\r\rReading package lists... 84%\r\rReading package lists... 84%\r\rReading package lists... 84%\r\rReading package lists... 84%\r\rReading package lists... 84%\r\rReading package lists... 84%\r\rReading package lists... 88%\r\rReading package lists... 88%\r\rReading package lists... 88%\r\rReading package lists... 88%\r\rReading package lists... 93%\r\rReading package lists... 93%\r\rReading package lists... 93%\r\rReading package lists... 93%\r\rReading package lists... 94%\r\rReading package lists... 94%\r\rReading package lists... 94%\r\rReading package lists... 94%\r\rReading package lists... 94%\r\rReading package lists... 94%\r\rReading package lists... 95%\r\rReading package lists... 95%\r\rReading package lists... 96%\r\rReading package lists... 98%\r\rReading package lists... 98%\r\rReading package lists... 98%\r\rReading package lists... 98%\r\rReading package lists... Done\r\n",
            "\rBuilding dependency tree... 0%\r\rBuilding dependency tree... 0%\r\rBuilding dependency tree... 50%\r\rBuilding dependency tree... 50%\r\rBuilding dependency tree       \r\n",
            "\rReading state information... 0%\r\rReading state information... 0%\r\rReading state information... Done\r\n",
            "Package oracle-java11-installer is not available, but is referred to by another package.\n",
            "This may mean that the package is missing, has been obsoleted, or\n",
            "is only available from another source\n",
            "\n",
            "E: Package 'oracle-java11-installer' has no installation candidate\n"
          ],
          "name": "stdout"
        }
      ]
    },
    {
      "cell_type": "markdown",
      "metadata": {
        "id": "7cG-L_J5mS_n",
        "colab_type": "text"
      },
      "source": [
        "添加PPA"
      ]
    },
    {
      "cell_type": "code",
      "metadata": {
        "id": "D3p_hXnfdUji",
        "colab_type": "code",
        "outputId": "58153084-db29-404d-ec98-8dc1cec1a46d",
        "colab": {
          "base_uri": "https://localhost:8080/",
          "height": 557
        }
      },
      "source": [
        "!add-apt-repository ppa:webupd8team/java --yes\n",
        "!apt-get update"
      ],
      "execution_count": 0,
      "outputs": [
        {
          "output_type": "stream",
          "text": [
            "Hit:1 https://cloud.r-project.org/bin/linux/ubuntu bionic-cran35/ InRelease\n",
            "Ign:2 https://developer.download.nvidia.com/compute/cuda/repos/ubuntu1804/x86_64  InRelease\n",
            "Ign:3 https://developer.download.nvidia.com/compute/machine-learning/repos/ubuntu1804/x86_64  InRelease\n",
            "Hit:4 https://developer.download.nvidia.com/compute/cuda/repos/ubuntu1804/x86_64  Release\n",
            "Hit:5 https://developer.download.nvidia.com/compute/machine-learning/repos/ubuntu1804/x86_64  Release\n",
            "Hit:6 http://ppa.launchpad.net/alessandro-strada/ppa/ubuntu bionic InRelease\n",
            "Get:9 http://security.ubuntu.com/ubuntu bionic-security InRelease [88.7 kB]\n",
            "Hit:10 http://archive.ubuntu.com/ubuntu bionic InRelease\n",
            "Hit:11 http://ppa.launchpad.net/graphics-drivers/ppa/ubuntu bionic InRelease\n",
            "Get:12 http://archive.ubuntu.com/ubuntu bionic-updates InRelease [88.7 kB]\n",
            "Hit:13 http://ppa.launchpad.net/marutter/c2d4u3.5/ubuntu bionic InRelease\n",
            "Get:14 http://archive.ubuntu.com/ubuntu bionic-backports InRelease [74.6 kB]\n",
            "Get:15 http://ppa.launchpad.net/webupd8team/java/ubuntu bionic InRelease [15.4 kB]\n",
            "Fetched 267 kB in 3s (98.5 kB/s)\n",
            "Reading package lists... Done\n",
            "Hit:1 https://cloud.r-project.org/bin/linux/ubuntu bionic-cran35/ InRelease\n",
            "Ign:2 https://developer.download.nvidia.com/compute/cuda/repos/ubuntu1804/x86_64  InRelease\n",
            "Ign:3 https://developer.download.nvidia.com/compute/machine-learning/repos/ubuntu1804/x86_64  InRelease\n",
            "Hit:4 https://developer.download.nvidia.com/compute/cuda/repos/ubuntu1804/x86_64  Release\n",
            "Hit:5 https://developer.download.nvidia.com/compute/machine-learning/repos/ubuntu1804/x86_64  Release\n",
            "Hit:6 http://ppa.launchpad.net/alessandro-strada/ppa/ubuntu bionic InRelease\n",
            "Get:7 http://security.ubuntu.com/ubuntu bionic-security InRelease [88.7 kB]\n",
            "Hit:8 http://archive.ubuntu.com/ubuntu bionic InRelease\n",
            "Get:11 http://archive.ubuntu.com/ubuntu bionic-updates InRelease [88.7 kB]\n",
            "Hit:12 http://ppa.launchpad.net/graphics-drivers/ppa/ubuntu bionic InRelease\n",
            "Hit:13 http://ppa.launchpad.net/marutter/c2d4u3.5/ubuntu bionic InRelease\n",
            "Get:14 http://archive.ubuntu.com/ubuntu bionic-backports InRelease [74.6 kB]\n",
            "Hit:15 http://ppa.launchpad.net/webupd8team/java/ubuntu bionic InRelease\n",
            "Fetched 252 kB in 3s (98.9 kB/s)\n",
            "Reading package lists... Done\n"
          ],
          "name": "stdout"
        }
      ]
    },
    {
      "cell_type": "markdown",
      "metadata": {
        "id": "DU8YINs9lafa",
        "colab_type": "text"
      },
      "source": [
        "安装java8"
      ]
    },
    {
      "cell_type": "code",
      "metadata": {
        "id": "_evG0BTClZIB",
        "colab_type": "code",
        "colab": {}
      },
      "source": [
        ""
      ],
      "execution_count": 0,
      "outputs": []
    },
    {
      "cell_type": "code",
      "metadata": {
        "id": "ECJitiF8h-5t",
        "colab_type": "code",
        "colab": {}
      },
      "source": [
        "!whereis 计算.py"
      ],
      "execution_count": 0,
      "outputs": []
    },
    {
      "cell_type": "code",
      "metadata": {
        "id": "tiSwJ-VnhV_-",
        "colab_type": "code",
        "outputId": "4ce0f77f-9b0b-485a-ffc4-f323a572ee89",
        "colab": {
          "base_uri": "https://localhost:8080/",
          "height": 125
        }
      },
      "source": [
        "!ls"
      ],
      "execution_count": 0,
      "outputs": [
        {
          "output_type": "stream",
          "text": [
            "bin\t etc\tmnt   srv\t\t\t tmp\n",
            "boot\t home\topt   swift\t\t\t tools\n",
            "content  lib\tproc  sys\t\t\t train-images-idx3-ubyte.gz\n",
            "datalab  lib32\troot  t10k-images-idx3-ubyte.gz  train-labels-idx1-ubyte.gz\n",
            "dev\t lib64\trun   t10k-labels-idx1-ubyte.gz  usr\n",
            "drive\t media\tsbin  tensorflow-2.0.0b1\t var\n"
          ],
          "name": "stdout"
        }
      ]
    },
    {
      "cell_type": "code",
      "metadata": {
        "id": "Jzhr6OgRhSBy",
        "colab_type": "code",
        "outputId": "7e9ae1eb-95dc-4309-ab2e-0ee52c716bc8",
        "colab": {
          "base_uri": "https://localhost:8080/",
          "height": 35
        }
      },
      "source": [
        "!pwd"
      ],
      "execution_count": 0,
      "outputs": [
        {
          "output_type": "stream",
          "text": [
            "/\n"
          ],
          "name": "stdout"
        }
      ]
    },
    {
      "cell_type": "code",
      "metadata": {
        "id": "9FUS5HBbhLtc",
        "colab_type": "code",
        "colab": {}
      },
      "source": [
        "os.chdir('../')"
      ],
      "execution_count": 0,
      "outputs": []
    },
    {
      "cell_type": "code",
      "metadata": {
        "id": "taWqm8VGg89c",
        "colab_type": "code",
        "outputId": "0dff8f80-1805-4e1b-d580-986bfaad1d9f",
        "colab": {
          "base_uri": "https://localhost:8080/",
          "height": 35
        }
      },
      "source": [
        "!pwd"
      ],
      "execution_count": 0,
      "outputs": [
        {
          "output_type": "stream",
          "text": [
            "/drive\n"
          ],
          "name": "stdout"
        }
      ]
    },
    {
      "cell_type": "code",
      "metadata": {
        "id": "OKv00djlgvgn",
        "colab_type": "code",
        "outputId": "28e65c81-1875-4c79-d117-ee04f1dc94f2",
        "colab": {
          "base_uri": "https://localhost:8080/",
          "height": 35
        }
      },
      "source": [
        "!ls"
      ],
      "execution_count": 0,
      "outputs": [
        {
          "output_type": "stream",
          "text": [
            " book   colab  'Colab Notebooks'\n"
          ],
          "name": "stdout"
        }
      ]
    },
    {
      "cell_type": "code",
      "metadata": {
        "id": "3fEwGuOjk059",
        "colab_type": "code",
        "outputId": "9faea1e5-962c-4f3b-811f-a9a52bef953e",
        "colab": {
          "base_uri": "https://localhost:8080/",
          "height": 89
        }
      },
      "source": [
        "!java -version\n",
        "!javac -version"
      ],
      "execution_count": 0,
      "outputs": [
        {
          "output_type": "stream",
          "text": [
            "openjdk version \"11.0.4\" 2019-07-16\n",
            "OpenJDK Runtime Environment (build 11.0.4+11-post-Ubuntu-1ubuntu218.04.3)\n",
            "OpenJDK 64-Bit Server VM (build 11.0.4+11-post-Ubuntu-1ubuntu218.04.3, mixed mode, sharing)\n",
            "javac 1.8.0_222\n"
          ],
          "name": "stdout"
        }
      ]
    },
    {
      "cell_type": "code",
      "metadata": {
        "id": "g3w7kXTJkoMb",
        "colab_type": "code",
        "outputId": "e9b170b1-459a-4af0-b66b-ca5afb327df5",
        "colab": {
          "base_uri": "https://localhost:8080/",
          "height": 35
        }
      },
      "source": [
        "!whereis java"
      ],
      "execution_count": 0,
      "outputs": [
        {
          "output_type": "stream",
          "text": [
            "java: /usr/bin/java /usr/share/java /usr/share/man/man1/java.1.gz\n"
          ],
          "name": "stdout"
        }
      ]
    },
    {
      "cell_type": "markdown",
      "metadata": {
        "id": "_hsYhTahjROD",
        "colab_type": "text"
      },
      "source": [
        "更改工作目录**bold text**"
      ]
    },
    {
      "cell_type": "code",
      "metadata": {
        "id": "oQWRrs83gXDd",
        "colab_type": "code",
        "colab": {}
      },
      "source": [
        "import os\n",
        "os.chdir ('../drive') # 与cd 的区别  只有chdir可改变工作路径"
      ],
      "execution_count": 0,
      "outputs": []
    },
    {
      "cell_type": "code",
      "metadata": {
        "id": "fm63ViiuflYH",
        "colab_type": "code",
        "outputId": "e1ee9e4e-227e-41be-b58d-6c2f9f7d4a48",
        "colab": {
          "base_uri": "https://localhost:8080/",
          "height": 35
        }
      },
      "source": [
        "!dir ../drive"
      ],
      "execution_count": 0,
      "outputs": [
        {
          "output_type": "stream",
          "text": [
            "book  colab  Colab\\ Notebooks\n"
          ],
          "name": "stdout"
        }
      ]
    },
    {
      "cell_type": "code",
      "metadata": {
        "id": "KSGxc6Sfcicw",
        "colab_type": "code",
        "outputId": "f883219e-2ff6-4282-a6eb-4b7c7263e0d9",
        "colab": {
          "base_uri": "https://localhost:8080/",
          "height": 125
        }
      },
      "source": [
        "!ls"
      ],
      "execution_count": 0,
      "outputs": [
        {
          "output_type": "stream",
          "text": [
            "bin\t etc\tmnt   srv\t\t\t tmp\n",
            "boot\t home\topt   swift\t\t\t tools\n",
            "content  lib\tproc  sys\t\t\t train-images-idx3-ubyte.gz\n",
            "datalab  lib32\troot  t10k-images-idx3-ubyte.gz  train-labels-idx1-ubyte.gz\n",
            "dev\t lib64\trun   t10k-labels-idx1-ubyte.gz  usr\n",
            "drive\t media\tsbin  tensorflow-2.0.0b1\t var\n"
          ],
          "name": "stdout"
        }
      ]
    },
    {
      "cell_type": "code",
      "metadata": {
        "id": "QX5GT4YKbyg9",
        "colab_type": "code",
        "colab": {}
      },
      "source": [
        "import keras"
      ],
      "execution_count": 0,
      "outputs": []
    },
    {
      "cell_type": "code",
      "metadata": {
        "id": "eoOvuaJHbpU6",
        "colab_type": "code",
        "colab": {}
      },
      "source": [
        "import torch\n",
        "import tensorflow"
      ],
      "execution_count": 0,
      "outputs": []
    },
    {
      "cell_type": "code",
      "metadata": {
        "id": "lnbI_BWYXu9h",
        "colab_type": "code",
        "outputId": "671fec9f-6aa9-46fc-9857-8541b5072997",
        "colab": {
          "base_uri": "https://localhost:8080/",
          "height": 125
        }
      },
      "source": [
        "!ls"
      ],
      "execution_count": 0,
      "outputs": [
        {
          "output_type": "stream",
          "text": [
            "bin\t etc\tmnt   srv\t\t\t tmp\n",
            "boot\t home\topt   swift\t\t\t tools\n",
            "content  lib\tproc  sys\t\t\t train-images-idx3-ubyte.gz\n",
            "datalab  lib32\troot  t10k-images-idx3-ubyte.gz  train-labels-idx1-ubyte.gz\n",
            "dev\t lib64\trun   t10k-labels-idx1-ubyte.gz  usr\n",
            "drive\t media\tsbin  tensorflow-2.0.0b1\t var\n"
          ],
          "name": "stdout"
        }
      ]
    },
    {
      "cell_type": "code",
      "metadata": {
        "id": "ncbtUyt8bpF0",
        "colab_type": "code",
        "outputId": "ca232312-6a3c-4b8c-9a63-7bcd961d6c83",
        "colab": {
          "base_uri": "https://localhost:8080/",
          "height": 143
        }
      },
      "source": [
        "!dir ../drive/book -al"
      ],
      "execution_count": 0,
      "outputs": [
        {
          "output_type": "stream",
          "text": [
            "total 17767\n",
            "drwxr-xr-x 2 root root     4096 Jul 25 05:03 .\n",
            "drwxr-xr-x 2 root root     4096 Aug 22 03:45 ..\n",
            "-rw-r--r-- 1 root root 14135831 Jul 25 04:59 商君书全文翻译（文白对照）.pdf\n",
            "-rw-r--r-- 1 root root   169257 Jul 25 05:00 宋石男\\ 越有梦\\ 越痛苦.pdf\n",
            "-rw-r--r-- 1 root root  1373246 Jul 25 05:01 文明的冲突与世界秩序的重建.pdf\n",
            "-rw-r--r-- 1 root root  2504745 Jul 25 05:02 走出帝制——从晚清到民国历史的回望.pdf\n"
          ],
          "name": "stdout"
        }
      ]
    },
    {
      "cell_type": "markdown",
      "metadata": {
        "id": "CAHB7wQZibLm",
        "colab_type": "text"
      },
      "source": [
        "其实完成前面的操作我们就可以在Colab中敲写代码或者输入一些系统命令了，但是我们现在连接的虚拟机是和Google Drive脱离的，也就是说我们跑的程序无法使用谷歌云盘里的文件，这就非常受限制了。所以我们一般需要将谷歌云盘看作是虚拟机中的一个硬盘挂载，这样我们就可以使用虚拟机轻松访问谷歌云盘。\n",
        "挂载Google Drive代码："
      ]
    },
    {
      "cell_type": "code",
      "metadata": {
        "id": "y4_kGrmRXk4I",
        "colab_type": "code",
        "colab": {}
      },
      "source": [
        "!mkdir -p drive\n",
        "!google-drive-ocamlfuse drive"
      ],
      "execution_count": 0,
      "outputs": []
    },
    {
      "cell_type": "markdown",
      "metadata": {
        "id": "y_DLFqTTitVI",
        "colab_type": "text"
      },
      "source": [
        "安装必要的包和软件"
      ]
    },
    {
      "cell_type": "code",
      "metadata": {
        "id": "S1__OJakVpxp",
        "colab_type": "code",
        "outputId": "919828bd-d656-4d08-c332-018ef6fb69a1",
        "colab": {
          "base_uri": "https://localhost:8080/",
          "height": 235
        }
      },
      "source": [
        "!apt-get install -y -qq software-properties-common python-software-properties module-init-tools\n",
        "!add-apt-repository -y ppa:alessandro-strada/ppa 2>&1 > /dev/null\n",
        "!apt-get update -qq 2>&1 > /dev/null\n",
        "!apt-get -y install -qq google-drive-ocamlfuse fuse\n",
        "from google.colab import auth\n",
        "auth.authenticate_user()\n",
        "from oauth2client.client import GoogleCredentials\n",
        "creds = GoogleCredentials.get_application_default()\n",
        "import getpass\n",
        "!google-drive-ocamlfuse -headless -id={creds.client_id} -secret={creds.client_secret} < /dev/null 2>&1 | grep URL\n",
        "vcode = getpass.getpass()\n",
        "!echo {vcode} | google-drive-ocamlfuse -headless -id={creds.client_id} -secret={creds.client_secret}"
      ],
      "execution_count": 0,
      "outputs": [
        {
          "output_type": "stream",
          "text": [
            "E: Package 'python-software-properties' has no installation candidate\n",
            "Selecting previously unselected package google-drive-ocamlfuse.\n",
            "(Reading database ... 131186 files and directories currently installed.)\n",
            "Preparing to unpack .../google-drive-ocamlfuse_0.7.6-0ubuntu1~ubuntu18.04.1_amd64.deb ...\n",
            "Unpacking google-drive-ocamlfuse (0.7.6-0ubuntu1~ubuntu18.04.1) ...\n",
            "Setting up google-drive-ocamlfuse (0.7.6-0ubuntu1~ubuntu18.04.1) ...\n",
            "Processing triggers for man-db (2.8.3-2ubuntu0.1) ...\n",
            "Please, open the following URL in a web browser: https://accounts.google.com/o/oauth2/auth?client_id=32555940559.apps.googleusercontent.com&redirect_uri=urn%3Aietf%3Awg%3Aoauth%3A2.0%3Aoob&scope=https%3A%2F%2Fwww.googleapis.com%2Fauth%2Fdrive&response_type=code&access_type=offline&approval_prompt=force\n",
            "··········\n",
            "Please, open the following URL in a web browser: https://accounts.google.com/o/oauth2/auth?client_id=32555940559.apps.googleusercontent.com&redirect_uri=urn%3Aietf%3Awg%3Aoauth%3A2.0%3Aoob&scope=https%3A%2F%2Fwww.googleapis.com%2Fauth%2Fdrive&response_type=code&access_type=offline&approval_prompt=force\n",
            "Please enter the verification code: Access token retrieved correctly.\n"
          ],
          "name": "stdout"
        }
      ]
    }
  ]
}